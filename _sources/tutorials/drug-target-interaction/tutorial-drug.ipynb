{
  "nbformat": 4,
  "nbformat_minor": 5,
  "metadata": {
    "kernelspec": {
      "display_name": "mmai-drug-tutorial",
      "language": "python",
      "name": "python3"
    }
  },
  "cells": [
    {
      "metadata": {},
      "source": [
        "# Drug\u2013Target Interaction Prediction\n",
        "\n",
        "![](images/drugban-pyakle-api.png)\n",
        "\n",
        "\n",
        "In this tutorial, we will train models to predict the interaction between **two data modalities**: **molecules (drug)** and **proteins (target)** using `PyKale`. Drug-target interaction (DTI) plays a key role in drug discovery and identifying potential therapeutic targets. This example is based on the **DrugBAN** framework by [**Bai et al. (_Nature Machine Intelligence_, 2023)**](https://www.nature.com/articles/s42256-022-00605-1).\n",
        "\n",
        "The DTI prediction problem is formulated as a **binary classification task**, where the goal is to predict whether a given **drug\u2013protein pair interacts or not**. The DrugBAN framework tackles this problem using two key ideas:\n",
        "\n",
        "- **Bilinear Attention Network (BAN)**, which learns detailed feature representations for both drugs and proteins and captures local interaction patterns between them.\n",
        "\n",
        "- **Adversarial Domain Adaptation**, which helps the model generalise to out-of-distribution datasets, i.e., in clustering-based cross-validation instead of random splits, improving its ability to predict interactions on unseen drug\u2013target pairs.\n",
        "\n",
        "With `PyKale`, implementing such a multimodal DTI prediction pipeline is straightforward. The library provides ready-to-use modules and configuration support, making it easy to apply advanced techniques with minimal custom coding."
      ],
      "cell_type": "markdown",
      "id": "8c1bf9c7"
    },
    {
      "metadata": {},
      "source": [
        "## Step 0: Environment Preparation\n",
        "\n",
        "As a starting point, we will install the required packages and load a set of helper functions to assist throughout this tutorial.\n",
        "\n",
        "To prepare the helper functions and necessary materials, we download them from the GitHub repository.\n",
        "\n",
        "Moreover, we provide helper functions that can be inspected directly in the `.py` files located in the notebook's current directory. The additional helper script is:\n",
        "- [`config.py`](https://github.com/pykale/embc-mmai25/blob/main/tutorials/drug-target-interaction/configs.py): Defines the base configuration settings, which can be overridden using a custom `.yaml` file."
      ],
      "cell_type": "markdown",
      "id": "745ccdcf"
    },
    {
      "metadata": {},
      "source": [
        "import os\n",
        "\n",
        "!rm -rf /content/mmai-tutorials\n",
        "!git clone --single-branch -b main https://github.com/pykale/mmai-tutorials.git\n",
        "%mv /content/mmai-tutorials/tutorials/drug-target-interaction /content/\n",
        "%cd /content/drug-target-interaction\n",
        "\n",
        "print(\"Changed working directory to:\", os.getcwd())"
      ],
      "cell_type": "code",
      "outputs": [],
      "id": "a6028209",
      "execution_count": null
    },
    {
      "metadata": {},
      "source": [
        "### Package Installation\n",
        "\n",
        "The main package required for this tutorial is `PyKale`.\n",
        "\n",
        "`PyKale` is an open-source interdisciplinary machine learning library developed at the University of Sheffield, with a focus on applications in biomedical and scientific domains.\n",
        "\n",
        "Then, we install `PyG` (PyTorch Geometric) and related packages.\n",
        "\n",
        "Please **do not** re-run this session after installation completed. Runing this installation multiple times will trigger issues related to `PyG`. If you want to re-run this installation, please click the `Runtime` on the top menu and choose `Disconnect and delete runtime` before installing."
      ],
      "cell_type": "markdown",
      "id": "c52c6334"
    },
    {
      "metadata": {},
      "source": [
        "!pip install --quiet \\\n",
        "    git+https://github.com/pykale/pykale@main \\\n",
        "    yacs==0.1.8 \\\n",
        "    rdkit \\\n",
        "    torch-scatter torch-sparse torch-cluster torch-spline-conv torch-geometric \\\n",
        "    -f https://data.pyg.org/whl/torch-2.6.0+cu124.html \\\n",
        "    && echo \"pykale,yacs and wfdb installed successfully \u2705\" \\\n",
        "    || echo \"Failed to install pykale,yacs \u274c\""
      ],
      "cell_type": "code",
      "outputs": [],
      "id": "53e3b14e",
      "execution_count": null
    },
    {
      "metadata": {},
      "source": [
        "We then hide the warnings messages to get a clear output."
      ],
      "cell_type": "markdown",
      "id": "69f50b6a"
    },
    {
      "metadata": {},
      "source": [
        "import os\n",
        "import warnings\n",
        "\n",
        "warnings.filterwarnings(\"ignore\")\n",
        "os.environ[\"PYTHONWARNINGS\"] = \"ignore\""
      ],
      "cell_type": "code",
      "outputs": [],
      "id": "6e871c63",
      "execution_count": null
    },
    {
      "metadata": {},
      "source": [
        "Exercise: Check NumPy Version"
      ],
      "cell_type": "markdown",
      "id": "6606e3fb"
    },
    {
      "metadata": {},
      "source": [
        "import numpy as np\n",
        "\n",
        "print(\"NumPy version:\", np.__version__)  # numpy should be 2.0.0 or higher"
      ],
      "cell_type": "code",
      "outputs": [],
      "id": "0d384020",
      "execution_count": null
    },
    {
      "metadata": {},
      "source": [
        "### Configuration\n",
        "\n",
        "To minimize the footprint of the notebook when specifying configurations, we provide a [`config.py`](https://github.com/pykale/embc-mmai25/blob/main/tutorials/drug-target-interaction/configs.py) file that defines default parameters. These can be customized by supplying a `.yaml` configuration file, such as [`configs/DA_cross_domain.yaml`](https://github.com/pykale/embc-mmai25/blob/main/tutorials/drug-target-interaction/configs/DA_cross_domain.yaml) as an example."
      ],
      "cell_type": "markdown",
      "id": "cabd3406"
    },
    {
      "metadata": {},
      "source": [
        "from configs import get_cfg_defaults\n",
        "\n",
        "%cd /content/drug-target-interaction\n",
        "\n",
        "cfg = get_cfg_defaults()  # Load the default settings from config.py\n",
        "cfg.merge_from_file(\n",
        "    \"configs/DA_cross_domain.yaml\"\n",
        ")  # Update (or override) some of those settings using a custom YAML file"
      ],
      "cell_type": "code",
      "outputs": [],
      "id": "55c13b48",
      "execution_count": null
    },
    {
      "metadata": {},
      "source": [
        "In this tutorial, we list the hyperparameters we would like users to play with outside the `.yaml` file:\n",
        "- `cfg.SOLVER.MAX_EPOCH`: Number of epochs in training stage. You can reduce the number of training epochs to shorten runtime.\n",
        "- `cfg.DATA.DATASET`: The dataset used in the study. This can be `bindingdb` or `biosnap`.\n",
        "\n",
        "As a quick exercise, please take a moment to review and understand the parameters in [`config.py`](https://github.com/pykale/embc-mmai25/blob/main/tutorials/drug-target-interaction/configs.py)."
      ],
      "cell_type": "markdown",
      "id": "74ffdbc2"
    },
    {
      "metadata": {},
      "source": [
        "cfg.SOLVER.MAX_EPOCH = 2"
      ],
      "cell_type": "code",
      "outputs": [],
      "id": "424c7286",
      "execution_count": null
    },
    {
      "metadata": {},
      "source": [
        "You can also switch to a different dataset."
      ],
      "cell_type": "markdown",
      "id": "97c088fd"
    },
    {
      "metadata": {},
      "source": [
        "cfg.DATA.DATASET = \"biosnap\""
      ],
      "cell_type": "code",
      "outputs": [],
      "id": "c69376fa",
      "execution_count": null
    },
    {
      "metadata": {},
      "source": [
        "Exercise: Now print the full configuration to check all current hyperparameter and dataset settings."
      ],
      "cell_type": "markdown",
      "id": "d3d41633"
    },
    {
      "metadata": {},
      "source": [
        "print(cfg)"
      ],
      "cell_type": "code",
      "outputs": [],
      "id": "45874296",
      "execution_count": null
    },
    {
      "metadata": {},
      "source": [
        "## Step 1: Data Loading and Preparation\n",
        "\n",
        "In this tutorial, we use the **Biosnap** dataset for the main demonstration and the **BindingDB** dataset for the exercise at the end."
      ],
      "cell_type": "markdown",
      "id": "17558d0c"
    },
    {
      "metadata": {},
      "source": [
        "### Data Downloading\n",
        "\n",
        "Please run the following cell to download necessary datasets."
      ],
      "cell_type": "markdown",
      "id": "6c6071b9"
    },
    {
      "metadata": {},
      "source": [
        "!rm -rf data\n",
        "!mkdir data\n",
        "!cd data\n",
        "\n",
        "!pip install -q gdown\n",
        "!gdown --id 1ogOcxZn-1q418LOT-gQ94aHQV0Y1sOmk --output data/drug-target-interaction.zip\n",
        "!unzip data/drug-target-interaction.zip -d data/"
      ],
      "cell_type": "code",
      "outputs": [],
      "id": "56f9f58e",
      "execution_count": null
    },
    {
      "metadata": {},
      "source": [
        "Exercise: Check the data is ready"
      ],
      "cell_type": "markdown",
      "id": "c39b3e39"
    },
    {
      "metadata": {},
      "source": [
        "import os\n",
        "import shutil\n",
        "\n",
        "print(\"Contents of the folder:\")\n",
        "for item in os.listdir(\"data/drug-target-interaction\"):\n",
        "    print(item)"
      ],
      "cell_type": "code",
      "outputs": [],
      "id": "a6258d1f",
      "execution_count": null
    },
    {
      "metadata": {},
      "source": [
        "Each dataset folder follows the structure:\n",
        "\n",
        "```sh\n",
        "    \u251c\u2500\u2500\u2500dataset_name\n",
        "    \u2502   \u251c\u2500\u2500\u2500cluster\n",
        "    \u2502   \u2502   \u251c\u2500\u2500\u2500source_train.csv\n",
        "    \u2502   \u2502   \u251c\u2500\u2500\u2500target_train.csv\n",
        "    \u2502   \u2502   \u251c\u2500\u2500\u2500target_test.csv\n",
        "    \u2502   \u251c\u2500\u2500\u2500random\n",
        "    \u2502   \u2502   \u251c\u2500\u2500\u2500test.csv\n",
        "    \u2502   \u2502   \u251c\u2500\u2500\u2500train.csv\n",
        "    \u2502   \u2502   \u251c\u2500\u2500\u2500val.csv\n",
        "    \u2502   \u251c\u2500\u2500\u2500full.csv\n",
        "```"
      ],
      "cell_type": "markdown",
      "id": "79cbc1c1"
    },
    {
      "metadata": {},
      "source": [
        "We use the cluster dataset folder for cross-domain prediction, containing three parts:\n",
        "\n",
        "- Train samples from the source domain: Drug\u2013protein pairs the model learns from.\n",
        "\n",
        "- Train samples from the target domain: Additional training data from a different distribution to improve generalisation.\n",
        "\n",
        "- Test samples from the target domain: Unseen drug\u2013protein pairs used to evaluate model performance on new data.\n",
        "\n",
        "The source and target sets are defined based on the clustering results."
      ],
      "cell_type": "markdown",
      "id": "d35e04f9"
    },
    {
      "metadata": {},
      "source": "### Data Loading",
      "cell_type": "markdown",
      "id": "98acf744"
    },
    {
      "metadata": {},
      "source": [
        "Here\u2019s what each csv file looks like in a table format:\n",
        "\n",
        "| SMILES             | Protein Sequence         | Y |\n",
        "|--------------------|--------------------------|---|\n",
        "| Fc1ccc(C2(COC\u2026)    | MDNVLPVDSDLS\u2026            | 1 |\n",
        "| O=c1oc2c(O)c(\u2026)    | MMYSKLLTLTTL\u2026            | 0 |\n",
        "| CC(C)Oc1cc(N\u2026)     | MGMACLTMTEME\u2026            | 1 |\n",
        "\n",
        "Each row of the dataset contains three key pieces of information:\n",
        "\n",
        "**Drugs**:  \n",
        "Drugs are often written as SMILES strings, which are like chemical formulas in text format (for example, `\"CC(=O)OC1=CC=CC=C1C(=O)O\"` is aspirin).  \n",
        "\n",
        "\n",
        "**Protein Sequence**  \n",
        "This is a string of letters where each letter stands for an amino acid, the building blocks of proteins. For example, `MGYTSLLT...` is a short protein sequence.\n",
        "\n",
        "\n",
        "**Y (Labels)**:  \n",
        "Each drug\u2013protein pair is given a label:\n",
        "- `1` if they interact\n",
        "- `0` if they do not\n",
        "\n",
        "\n",
        "Each row shows one drug\u2013protein pair. The goal of our machine learning model is to predict the last column (**Y**) \u2014 whether or not the drug and protein interact."
      ],
      "cell_type": "markdown",
      "id": "1e5f4f44"
    },
    {
      "metadata": {},
      "source": [
        "You can load CSV files into Python using tools like `pandas`."
      ],
      "cell_type": "markdown",
      "id": "b7590daf"
    },
    {
      "metadata": {},
      "source": [
        "import pandas as pd\n",
        "\n",
        "dataFolder = os.path.join(\n",
        "    f\"data/drug-target-interaction/{cfg.DATA.DATASET}\", str(cfg.DATA.SPLIT)\n",
        ")\n",
        "\n",
        "df_train_source = pd.read_csv(os.path.join(dataFolder, \"source_train.csv\"))\n",
        "df_train_target = pd.read_csv(os.path.join(dataFolder, \"target_train.csv\"))\n",
        "df_test_target = pd.read_csv(os.path.join(dataFolder, \"target_test.csv\"))"
      ],
      "cell_type": "code",
      "outputs": [],
      "id": "0c709e31",
      "execution_count": null
    },
    {
      "metadata": {},
      "source": [
        "### Data Preprocessing\n",
        "\n",
        "We convert drug SMILES strings into molecular graphs using `kale.loaddata.molecular_datasets.smiles_to_graph`, encoding atom-level features as node attributes and bond types as edges.\n",
        "\n",
        "\n",
        "Protein sequences are transformed into fixed-length integer arrays using `kale.prepdata.chem_transform.integer_label_protein`, with each amino acid mapped to an integer and sequences padded or truncated to a uniform length.\n",
        "\n",
        "Finally, the `kale.loaddata.molecular_datasets.DTIDataset` class packages drugs, proteins, and labels into a PyTorch-ready dataset."
      ],
      "cell_type": "markdown",
      "id": "542d4e69"
    },
    {
      "metadata": {},
      "source": [
        "**Note:** If you encounter an error related to requiring numpy `<2.0`, simply ignore it and re-run this block until it completes successfully."
      ],
      "cell_type": "markdown",
      "id": "981d5520"
    },
    {
      "metadata": {},
      "source": [
        "from kale.loaddata.molecular_datasets import DTIDataset\n",
        "\n",
        "# Create preprocessed datasets\n",
        "train_dataset = DTIDataset(df_train_source.index.values, df_train_source)\n",
        "train_target_dataset = DTIDataset(df_train_target.index.values, df_train_target)\n",
        "test_target_dataset = DTIDataset(df_test_target.index.values, df_test_target)"
      ],
      "cell_type": "code",
      "outputs": [],
      "id": "ae5af8eb",
      "execution_count": null
    },
    {
      "metadata": {},
      "source": [
        "We load data in small, manageable pieces called batches to save memory and speed up training. We use `kale.loaddata.sampler.MultiDataLoader` from PyKale to load one batch from the source domain and one from the target domain at each training step."
      ],
      "cell_type": "markdown",
      "id": "a0a510ce"
    },
    {
      "metadata": {},
      "source": [
        "First, we specify a few DataLoader parameters:\n",
        "- Batch size: Number of samples per batch\n",
        "- Shuffle: Randomly shuffle data\n",
        "- Number of workers: Parallel data loading\n",
        "- Drop last: Discard the last incomplete batch for consistent batch sizes\n",
        "- Collate function: Use graph_collate_func to batch variable-sized molecular graphs"
      ],
      "cell_type": "markdown",
      "id": "c09084c0"
    },
    {
      "metadata": {},
      "source": [
        "from torch.utils.data import DataLoader\n",
        "from kale.loaddata.molecular_datasets import graph_collate_func\n",
        "from kale.loaddata.sampler import MultiDataLoader\n",
        "\n",
        "params = {\n",
        "    \"batch_size\": cfg.SOLVER.BATCH_SIZE,\n",
        "    \"shuffle\": True,\n",
        "    \"num_workers\": cfg.SOLVER.NUM_WORKERS,\n",
        "    \"drop_last\": True,\n",
        "    \"collate_fn\": graph_collate_func,\n",
        "}"
      ],
      "cell_type": "code",
      "outputs": [],
      "id": "94a15868",
      "execution_count": null
    },
    {
      "metadata": {},
      "source": [
        "Then, we create a DataLoader from both the source and target datasets for training."
      ],
      "cell_type": "markdown",
      "id": "e884ed07"
    },
    {
      "metadata": {},
      "source": [
        "if not cfg.DA.USE:\n",
        "    training_generator = DataLoader(train_dataset, **params)\n",
        "else:\n",
        "    source_generator = DataLoader(train_dataset, **params)\n",
        "    target_generator = DataLoader(train_target_dataset, **params)\n",
        "\n",
        "    # Get the number of batches in the longer dataset to align both\n",
        "    n_batches = max(len(source_generator), len(target_generator))\n",
        "\n",
        "    # Combine the source and target data loaders using MultiDataLoader\n",
        "    training_generator = MultiDataLoader(\n",
        "        dataloaders=[source_generator, target_generator], n_batches=n_batches\n",
        "    )"
      ],
      "cell_type": "code",
      "outputs": [],
      "id": "24ba12b5",
      "execution_count": null
    },
    {
      "metadata": {},
      "source": [
        "Lastly, we set up DataLoaders for validation and testing. Since we don\u2019t want to shuffle or drop any samples, we adjust the parameters accordingly."
      ],
      "cell_type": "markdown",
      "id": "649301de"
    },
    {
      "metadata": {},
      "source": [
        "# Update parameters for validation/testing (no shuffling, keep all data)\n",
        "params.update({\"shuffle\": False, \"drop_last\": False})\n",
        "\n",
        "# Create validation and test data loaders\n",
        "valid_generator = DataLoader(test_target_dataset, **params)\n",
        "test_generator = DataLoader(test_target_dataset, **params)"
      ],
      "cell_type": "code",
      "outputs": [],
      "id": "b4cf543a",
      "execution_count": null
    },
    {
      "metadata": {},
      "source": [
        "### Exercise: Dataset Inspection\n",
        "\n",
        "Once the dataset is ready, let\u2019s inspect one sample from the training data to check the input graph, protein sequence, and label format."
      ],
      "cell_type": "markdown",
      "id": "e474eea2"
    },
    {
      "metadata": {},
      "source": [
        "# Get the first batch (contains one batch from source and one from target)\n",
        "first_batch = next(iter(training_generator))\n",
        "\n",
        "# Unpack source and target batches\n",
        "source_batch, target_batch = first_batch\n",
        "\n",
        "# Inspect the first sample from the source batch\n",
        "print(\"First sample from source batch:\")\n",
        "print(\"Drug graph:\", source_batch[0][0])\n",
        "print(\"Protein sequence:\", source_batch[1][0])\n",
        "print(\"Label:\", source_batch[2][0])"
      ],
      "cell_type": "code",
      "outputs": [],
      "id": "31b8a93f",
      "execution_count": null
    },
    {
      "metadata": {},
      "source": [
        "This sample is a tuple with three parts:\n",
        "\n",
        "1. **Drug Graph**\n",
        "- `x=[290, 7]`: Feature matrix with 290 atoms (nodes) and 7 features per atom.\n",
        "- `edge_index=[2, 58]`: Shows 146 edges, with source and target node indices.\n",
        "- `edge_attr=[58, 1]`: Each edge has 1 bond feature, such as bond type.\n",
        "- `num_nodes=290`: Confirms the graph has 290 nodes.\n",
        "\n",
        "2. **Protein Features (array)**\n",
        "- Example values: `[11.,  1., 18., ...,  0.,  0.,  0.]`: A fixed-length numeric array representing the protein sequence. Each position holds an integer-encoded amino acid, with zeros for padding.\n",
        "\n",
        "3. **Label (float)**\n",
        "- `0.0`; The ground-truth interaction label indicating no interaction."
      ],
      "cell_type": "markdown",
      "id": "cb0b269b"
    },
    {
      "metadata": {},
      "source": [
        "## Step 2: Model Definition"
      ],
      "cell_type": "markdown",
      "id": "8eaf5c8f"
    },
    {
      "metadata": {},
      "source": [
        "### Embed\n",
        "\n",
        "DrugBAN consists of three main components: a Graph Convolutional Network (GCN) for extracting structural features from drug molecular graphs, a Convolutional Neural Network (CNN) for encoding protein sequences, and a Bilinear Attention Network (BAN) for fusing drug and protein features. The fused representation is then passed through a Multi-Layer Perceptron (MLP) classifier to predict interaction scores.\n",
        "\n",
        "We define the DrugBAN class in `kale.embed.ban`."
      ],
      "cell_type": "markdown",
      "id": "b2819549"
    },
    {
      "metadata": {},
      "source": [
        "from kale.embed.ban import DrugBAN\n",
        "\n",
        "model = DrugBAN(**cfg)\n",
        "print(model)"
      ],
      "cell_type": "code",
      "outputs": [],
      "id": "1c8f3acc",
      "execution_count": null
    },
    {
      "metadata": {},
      "source": [
        "### Predict\n",
        "We use the training class `kale.pipeline.drugban_trainer`, which handles model training, domain adaptation, and evaluation for DrugBAN."
      ],
      "cell_type": "markdown",
      "id": "32084f24"
    },
    {
      "metadata": {},
      "source": [
        "from kale.pipeline.drugban_trainer import DrugbanTrainer\n",
        "\n",
        "drugban_trainer = DrugbanTrainer(\n",
        "    model=DrugBAN(**cfg),\n",
        "    solver_lr=cfg.SOLVER.LEARNING_RATE,\n",
        "    num_classes=cfg.DECODER.BINARY,\n",
        "    batch_size=cfg.SOLVER.BATCH_SIZE,\n",
        "    is_da=cfg.DA.USE,\n",
        "    solver_da_lr=cfg.SOLVER.DA_LEARNING_RATE,\n",
        "    da_init_epoch=cfg.DA.INIT_EPOCH,\n",
        "    da_method=cfg.DA.METHOD,\n",
        "    original_random=cfg.DA.ORIGINAL_RANDOM,\n",
        "    use_da_entropy=cfg.DA.USE_ENTROPY,\n",
        "    da_random_layer=cfg.DA.RANDOM_LAYER,\n",
        "    da_random_dim=cfg.DA.RANDOM_DIM,\n",
        "    decoder_in_dim=cfg.DECODER.IN_DIM,\n",
        ")"
      ],
      "cell_type": "code",
      "outputs": [],
      "id": "46e2b9b4",
      "execution_count": null
    },
    {
      "metadata": {},
      "source": [
        "We want to save the best model during training so we can reuse it later without needing to retrain. PyTorch Lightning\u2019s `ModelCheckpoint` does this by automatically saving the model whenever it achieves a new best validation AUROC score."
      ],
      "cell_type": "markdown",
      "id": "a48c86b9"
    },
    {
      "metadata": {},
      "source": [
        "import pytorch_lightning as pl\n",
        "from pytorch_lightning.callbacks import ModelCheckpoint\n",
        "\n",
        "checkpoint_callback = ModelCheckpoint(\n",
        "    filename=\"{epoch}-{step}-{val_BinaryAUROC:.4f}\",\n",
        "    monitor=\"val_BinaryAUROC\",\n",
        "    mode=\"max\",\n",
        ")"
      ],
      "cell_type": "code",
      "outputs": [],
      "id": "7754bd38",
      "execution_count": null
    },
    {
      "metadata": {},
      "source": [
        "We now create the `Trainer`."
      ],
      "cell_type": "markdown",
      "id": "969beac0"
    },
    {
      "metadata": {},
      "source": [
        "import torch\n",
        "\n",
        "trainer = pl.Trainer(\n",
        "    callbacks=[checkpoint_callback],\n",
        "    devices=\"auto\",\n",
        "    accelerator=\"auto\",\n",
        "    max_epochs=cfg.SOLVER.MAX_EPOCH,\n",
        "    deterministic=True,\n",
        ")"
      ],
      "cell_type": "code",
      "outputs": [],
      "id": "e68e07bc",
      "execution_count": null
    },
    {
      "metadata": {},
      "source": [
        "## Step 3: Model Training"
      ],
      "cell_type": "markdown",
      "id": "1f9a4714"
    },
    {
      "metadata": {},
      "source": [
        "### Train\n",
        "\n",
        "After setting up the model and data loaders, we now start training the full DrugBAN model using the PyTorch Lightning Trainer via calling `trainer.fit()`.\n",
        "\n",
        "#### What Happens Here?\n",
        "- The model receives batches of drug-protein pairs from the training data loader.\n",
        "\n",
        "- During each step, the GCN, CNN, BAN layer, and MLP classifier are updated to improve interaction prediction.\n",
        "\n",
        "- Validation is automatically run at the end of each epoch to track performance and save the best model based on AUROC.\n",
        "\n",
        "\n",
        "This code block takes approximately 5 minutes to complete."
      ],
      "cell_type": "markdown",
      "id": "b72634ee"
    },
    {
      "metadata": {},
      "source": [
        "trainer.fit(\n",
        "    drugban_trainer,\n",
        "    train_dataloaders=training_generator,\n",
        "    val_dataloaders=valid_generator,\n",
        ")"
      ],
      "cell_type": "code",
      "outputs": [],
      "id": "0624b0c6",
      "execution_count": null
    },
    {
      "metadata": {},
      "source": [
        "## Step 4: Evaluation\n",
        "\n",
        "Once training is complete, we evaluate the model on the test set using `trainer.test()`.\n",
        "\n",
        "### What is included in this step?\n",
        "- The best model checkpoint (based on validation AUROC) is automatically loaded.\n",
        "\n",
        "- The model runs on the test data to generate predictions.\n",
        "\n",
        "- Final classification metrics, including AUROC, F1 score, accuracy, sensitivity, and specificity, are calculated and logged."
      ],
      "cell_type": "markdown",
      "id": "23b3975c"
    },
    {
      "metadata": {},
      "source": [
        "trainer.test(drugban_trainer, dataloaders=test_generator, ckpt_path=\"best\")"
      ],
      "cell_type": "code",
      "outputs": [],
      "id": "c1415c02",
      "execution_count": null
    },
    {
      "metadata": {},
      "source": [
        "### Performance Comparison\n",
        "\n",
        "The earlier example was a simple demonstration. To properly evaluate DrugBAN against baseline models, we train it for 100 epochs across multiple random seeds.\n",
        "\n",
        "The figure below shows the performance of different models on the BioSNAP and BindingDB datasets:\n",
        "- Left plot: AUROC (Area Under the ROC Curve)\n",
        "- Right plot: AUPRC (Area Under the Precision\u2013Recall Curve)\n",
        "\n",
        "![](https://media.springernature.com/full/springer-static/image/art%3A10.1038%2Fs42256-022-00605-1/MediaObjects/42256_2022_605_Fig3_HTML.png?as=webp)\n",
        "\n",
        "The box plots show the median as the centre lines and the mean as green triangles. The minima and lower percentile represent the worst and second-worst scores. The maxima and upper percentile indicate the best and second-best scores. Supplementary Table 2 provides the data statistics of the BindingDB and BioSNAP datasets."
      ],
      "cell_type": "markdown",
      "id": "37dbe9f3"
    },
    {
      "metadata": {},
      "source": [
        "## Step 5: Interpretation\n",
        "\n",
        "We interpret the trained models by analyzing the learned attention weights. In this step, we will use PyKale's API to\n",
        "1) draw the attention maps of the Bilinear Attention Network (BAN) layer, and\n",
        "2) generate molecule images with attention highlights.\n",
        "\n",
        "This helps us understand which parts of the drug contribute to the interaction with the target protein."
      ],
      "cell_type": "markdown",
      "id": "02e3c73e"
    },
    {
      "metadata": {},
      "source": [
        "### Extracting Attention Weights\n",
        "We use the `test.py` script to evaluate the trained model and optionally extract the attention weights by specifying `--save_att_path`:"
      ],
      "cell_type": "markdown",
      "id": "4a56f260141b7368"
    },
    {
      "metadata": {},
      "source": [
        "def get_test_dataset(dataFolder):\n",
        "    df_test_target = pd.read_csv(dataFolder)\n",
        "    test_target_dataset = DTIDataset(df_test_target.index.values, df_test_target)\n",
        "    return test_target_dataset\n",
        "\n",
        "\n",
        "def get_test_dataloader(dataset, batchsize, num_workers, collate_fn):\n",
        "    test_dataloader = DataLoader(\n",
        "        dataset,\n",
        "        batch_size=batchsize,\n",
        "        num_workers=num_workers,\n",
        "        collate_fn=collate_fn,\n",
        "        shuffle=False,\n",
        "        drop_last=True,\n",
        "    )\n",
        "    return test_dataloader"
      ],
      "cell_type": "code",
      "outputs": [
        {
          "output_type": "stream",
          "name": "stdout",
          "text": [
            "python: can't open file '/home/xianyuan/PycharmProjects/embc-mmai25/tutorials/drug-target-interaction/test.py': [Errno 2] No such file or directory\r\n"
          ]
        }
      ],
      "id": "2c67553408592b2",
      "execution_count": null
    },
    {
      "metadata": {},
      "source": [
        "test_dataFolder = \"/content/drug-target-interaction/data/drug-target-interaction/bindingdb/interpretation_samples.csv\"\n",
        "test_dataset = get_test_dataset(test_dataFolder)\n",
        "test_dataloader = get_test_dataloader(\n",
        "    test_dataset,\n",
        "    batchsize=1,\n",
        "    num_workers=cfg.SOLVER.NUM_WORKERS,\n",
        "    collate_fn=graph_collate_func,\n",
        ")"
      ],
      "cell_type": "code",
      "outputs": [],
      "id": "7ef1867541d2577a",
      "execution_count": null
    },
    {
      "metadata": {},
      "source": [
        "def get_model_from_ckpt(ckpt_path, config):\n",
        "    return DrugbanTrainer.load_from_checkpoint(\n",
        "        checkpoint_path=ckpt_path,\n",
        "        model=DrugBAN(**config),\n",
        "        solver_lr=config.SOLVER.LEARNING_RATE,\n",
        "        num_classes=config.DECODER.BINARY,\n",
        "        batch_size=config.SOLVER.BATCH_SIZE,\n",
        "        # --- domain adaptation parameters ---\n",
        "        is_da=config.DA.USE,\n",
        "        solver_da_lr=config.SOLVER.DA_LEARNING_RATE,\n",
        "        da_init_epoch=config.DA.INIT_EPOCH,\n",
        "        da_method=config.DA.METHOD,\n",
        "        original_random=config.DA.ORIGINAL_RANDOM,\n",
        "        use_da_entropy=config.DA.USE_ENTROPY,\n",
        "        da_random_layer=config.DA.RANDOM_LAYER,\n",
        "        # --- discriminator parameters ---\n",
        "        da_random_dim=config.DA.RANDOM_DIM,\n",
        "        decoder_in_dim=config.DECODER.IN_DIM,\n",
        "    )"
      ],
      "cell_type": "code",
      "outputs": [],
      "id": "3b7f12b12b139799",
      "execution_count": null
    },
    {
      "metadata": {},
      "source": [
        "checkpoint_path = (\n",
        "    \"/content/drug-target-interaction/data/drug-target-interaction/checkpoint/best.ckpt\"\n",
        ")\n",
        "model = get_model_from_ckpt(checkpoint_path, cfg)\n",
        "model.model.eval()"
      ],
      "cell_type": "code",
      "outputs": [],
      "id": "d2a8931099b73c01",
      "execution_count": null
    },
    {
      "metadata": {},
      "source": [
        "from tqdm import tqdm\n",
        "\n",
        "all_attentions = []\n",
        "for batch in tqdm(test_dataloader):\n",
        "    drug, protein, _ = batch\n",
        "    drug, protein = drug.to(model.device), protein.to(model.device)\n",
        "\n",
        "    _, _, _, _, attention = model.model.forward(\n",
        "        drug, protein, mode=\"eval\"\n",
        "    )  # [B, H, V, Q]\n",
        "\n",
        "    attention = attention.detach().cpu()\n",
        "    all_attentions.append(attention)\n",
        "\n",
        "# Concatenate into one tensor: [N, H, V, Q]\n",
        "all_attentions = torch.cat(all_attentions, dim=0)\n",
        "torch.save(all_attentions, \"attention_maps.pt\")"
      ],
      "cell_type": "code",
      "outputs": [],
      "id": "781a7762c36c72be",
      "execution_count": null
    },
    {
      "metadata": {},
      "source": [
        "`--cfg`: Path to the configuration file.\n",
        "\n",
        "`--ckpt_resume`: Path to the trained model checkpoint.\n",
        "\n",
        "`--test_file`: Path to the test set file.\n",
        "\n",
        "`--save_att_path`: Path to save the attention map in `.pt` format (PyTorch tensor)."
      ],
      "cell_type": "markdown",
      "id": "c79085052cc55953"
    },
    {
      "metadata": {},
      "source": "### Visualize Attention Maps and Molecule Images",
      "cell_type": "markdown",
      "id": "8f72ea4d93f640cb"
    },
    {
      "metadata": {},
      "source": "Once attention maps are saved, run the visualization script:",
      "cell_type": "markdown",
      "id": "383c342a7c31d7ae"
    },
    {
      "metadata": {},
      "source": [
        "This script will:\n",
        "\n",
        "1) Load the attention weights and the corresponding SMILES + protein data.\n",
        "\n",
        "2) Plot:\n",
        "\n",
        "    a) A heatmap of attention over drug\u2013protein tokens.\n",
        "\n",
        "    b) Molecular structures with atoms highlighted by attention values.\n",
        "\n",
        "The output images are saved in the `visualization` directory. You can also modify the `data_file` to use your own input in the same format as `target_test.csv`.\n",
        "\n"
      ],
      "cell_type": "markdown",
      "id": "d8a746169def8da5"
    },
    {
      "metadata": {},
      "source": [
        "%pip install nilearn\n",
        "from kale.interpret.visualize import draw_attention_map, draw_mol_with_attention\n",
        "from kale.prepdata.tensor_reshape import normalize_tensor"
      ],
      "cell_type": "code",
      "outputs": [],
      "id": "d3c1d2e4cab69107",
      "execution_count": null
    },
    {
      "metadata": {},
      "source": [
        "out_dir = \"./visualization\"\n",
        "index = 0"
      ],
      "cell_type": "code",
      "outputs": [],
      "id": "6ca1727ed972a530",
      "execution_count": null
    },
    {
      "metadata": {},
      "source": [
        "os.makedirs(out_dir, exist_ok=True)\n",
        "att_path = os.path.join(out_dir, f\"att_map_{index}.png\")\n",
        "mol_path = os.path.join(out_dir, f\"mol_{index}.svg\")"
      ],
      "cell_type": "code",
      "outputs": [],
      "id": "d63807b17e59e7d9",
      "execution_count": null
    },
    {
      "metadata": {},
      "source": [
        "attention = torch.load(\"attention_maps.pt\", map_location=\"cpu\")  # [B, H, V, Q]\n",
        "data_df = pd.read_csv(test_dataFolder)\n",
        "smiles = data_df[\"SMILES\"]\n",
        "proteins = data_df[\"Protein\"]"
      ],
      "cell_type": "code",
      "outputs": [],
      "id": "7f70a6810c1c5e60",
      "execution_count": null
    },
    {
      "metadata": {},
      "source": [
        "def get_real_length(smile, protein_sequence):\n",
        "    \"\"\"Get the real length of the drug and protein sequences.\"\"\"\n",
        "    mol = Chem.MolFromSmiles(smile)\n",
        "    return mol.GetNumAtoms(), len(protein_sequence)"
      ],
      "cell_type": "code",
      "outputs": [],
      "id": "3a57d0e94727c237",
      "execution_count": null
    },
    {
      "metadata": {},
      "source": [
        "from rdkit import Chem\n",
        "\n",
        "att = attention[index]  # [H, V, Q]\n",
        "smile = smiles[index]\n",
        "protein = proteins[index]\n",
        "real_drug_len, real_prot_len = get_real_length(smile, protein)\n",
        "att = att[:, :real_drug_len, :real_prot_len].mean(0)  # [V, Q]\n",
        "\n",
        "# Normalize\n",
        "att = normalize_tensor(att)"
      ],
      "cell_type": "code",
      "outputs": [],
      "id": "af15baa1c8caabc0",
      "execution_count": null
    },
    {
      "metadata": {},
      "source": [
        "draw_attention_map(\n",
        "    att,\n",
        "    att_path,\n",
        "    title=f\"Drug {index} Attention\",\n",
        "    xlabel=\"Drug Tokens\",\n",
        "    ylabel=\"Protein Tokens\",\n",
        ")"
      ],
      "cell_type": "code",
      "outputs": [],
      "id": "403f77ada0ecc446",
      "execution_count": null
    },
    {
      "metadata": {},
      "source": [
        "draw_mol_with_attention(att.mean(dim=1), smile, mol_path)"
      ],
      "cell_type": "code",
      "outputs": [],
      "id": "b1003372361a66d6",
      "execution_count": null
    },
    {
      "metadata": {},
      "source": [
        "## Extension Tasks"
      ],
      "cell_type": "markdown",
      "id": "eeb308c3"
    },
    {
      "metadata": {},
      "source": [
        "### Task 1\n",
        "\n",
        "To use the BindingDB dataset, modify the relevant line in the Configuration section of Step 0 as shown below.\n",
        "\n",
        "```python\n",
        "cfg.DATA.DATASET = \"bindingdb\"\n",
        "```\n",
        "\n",
        "Reload the dataset and re-run training and testing.\n",
        "\n",
        "> Tip: See if the model struggles more or less with the new dataset. It can reveal how generalisable DrugBAN is.\n"
      ],
      "cell_type": "markdown",
      "id": "aa2a83d8"
    },
    {
      "metadata": {},
      "source": [
        "### Task 2\n",
        "\n",
        "Turn off domain adaptation by updating the config file and re-running training and testing.\n",
        "\n",
        "Replace `configs/DA_cross_domain.yaml` with `configs/non_DA_cross_domain.yaml` in the Configuration section of Step 0 as shown below.\n",
        "\n",
        "```python\n",
        "cfg.merge_from_file(\"configs/non_DA_cross_domain.yaml\")\n",
        "```\n",
        ">Tip: Compare the results with and without domain adaptation to see how it affects model performance."
      ],
      "cell_type": "markdown",
      "id": "c94f174c"
    }
  ]
}
