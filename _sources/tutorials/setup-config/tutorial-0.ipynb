{
 "cells": [
  {
   "cell_type": "markdown",
   "id": "f2fd087b",
   "metadata": {},
   "source": [
    "# Tutorial 0 - Environment Setup and Configuration\n",
    "\n",
    "In this tutorial, we will cover the essential steps to set up your development environment on **Google Colab** and how to configure your project using `.yml` files. \n",
    "\n",
    "## Step 1: Open Google Colab and Setup Environment\n",
    "\n",
    "To begin, you need to open the Google Colab environment where you will run your Jupyter notebooks.\n",
    "\n",
    "For each executable tutorial in this book, you will find a rocket icon <i class=\"fas fa-rocket\"></i> near the top-right area. Click this icon <i class=\"fas fa-rocket\"></i> to reveal the “Open in Colab” button, then click the button to launch the notebook in Google Colab.\n"
   ]
  },
  {
   "cell_type": "markdown",
   "id": "e66177a3",
   "metadata": {},
   "source": [
    "### Install Required Packages\n",
    "\n",
    "In this tutorial, we will need to install the `yacs` package, which will be used later for configuration management.\n",
    "\n",
    "Run the code cell below to install the package:"
   ]
  },
  {
   "cell_type": "code",
   "execution_count": null,
   "id": "5307f86a",
   "metadata": {},
   "outputs": [],
   "source": [
    "!pip install yacs"
   ]
  },
  {
   "metadata": {},
   "cell_type": "markdown",
   "source": "For the other tutorials in this book, you will need to install additional packages including `PyKale` as specified in each tutorial.",
   "id": "2b3340318426b3e4"
  },
  {
   "cell_type": "markdown",
   "id": "5d014cd7",
   "metadata": {},
   "source": [
    "### Copy Files to Colab Runtime Storage\n",
    "\n",
    "For tutorials in this book, we will need to download files or link shared Google Drive folders to the Colab runtime local storage. \n",
    "\n",
    "Run the following code cell to copy the necessary files from the [workshop repository](https://github.com/pykale/mmai-tutorials) to your Colab runtime local storage."
   ]
  },
  {
   "cell_type": "code",
   "execution_count": null,
   "id": "81bb8341",
   "metadata": {},
   "outputs": [],
   "source": [
    "import os\n",
    "import site\n",
    "import sys\n",
    "import warnings\n",
    "\n",
    "warnings.filterwarnings(\"ignore\")\n",
    "os.environ[\"PYTHONWARNINGS\"] = \"ignore\"\n",
    "\n",
    "if \"google.colab\" in str(get_ipython()):\n",
    "    sys.path.insert(0, site.getusersitepackages())\n",
    "    !git clone --single-branch -b main https://github.com/pykale/mmai-tutorials\n",
    "    %cp -r /content/mmai-tutorials/tutorials/setup-config/* /content/\n",
    "    %rm -r /content/mmai-tutorials"
   ]
  },
  {
   "cell_type": "markdown",
   "id": "70f5a4b1",
   "metadata": {},
   "source": [
    "### (Optional) Link Colab Runtime Storage to Google Drive\n",
    "\n",
    "For some tutorials, the data files have been downloaded to a shared Google Drive folder. You can access these files by linking your Google Drive to the Colab runtime storage, and create a shortcut to the shared folder in your Google Drive.\n",
    "\n",
    "Run the following code cell to link your Google Drive to the Colab runtime storage:"
   ]
  },
  {
   "cell_type": "code",
   "execution_count": null,
   "id": "7a9995d7",
   "metadata": {},
   "outputs": [],
   "source": [
    "from google.colab import drive\n",
    "\n",
    "drive.mount(\"/content/drive\")"
   ]
  },
  {
   "cell_type": "markdown",
   "id": "cf3bfa2c",
   "metadata": {},
   "source": [
    "## Step 2: Configuration using .yml files\n",
    "\n",
    "Click the folder icon on the left sidebar to open the file explorer. You should see a directory structure below:\n",
    "\n",
    "```text\n",
    "    ├───tutorial-0.ipynb\n",
    "    ├───config.py\n",
    "    ├───configs\n",
    "    │   ├───base.yml\n",
    "    │   ├───alternative.yml\n",
    "```\n",
    "\n",
    "The other tutorials will have similar directory structures, with additional files as shown below:\n",
    "```text\n",
    "    ├───tutorial.ipynb\n",
    "    ├───config.py\n",
    "    ├───configs\n",
    "    │   ├───base.yml\n",
    "    │   ├───**.yml\n",
    "    ├───model.py\n",
    "    ├───models\n",
    "    │   ├───**.pt\n",
    "    ├───data\n",
    "    │   ├───**.csv\n",
    "    │   ├───**.**\n",
    "    ├───images\n",
    "    │   ├───**.png\n",
    "    │   ├───**.jpg\n",
    "    ├───**.py\n",
    "```\n",
    "\n",
    "The `config.py` file contains the default configuration settings for the tutorial. The default configurations defined in the toy [`config.py`](config.py) file for this tutorial are as follows:\n",
    "\n",
    "```python\n",
    "_C = CfgNode()\n",
    "\n",
    "# Dataset configuration\n",
    "_C.DATASET = CfgNode()\n",
    "# Path to the dataset directory\n",
    "_C.DATASET.DATA_DIR = \"/content/\"\n",
    "\n",
    "\n",
    "# Model configuration\n",
    "_C.MODEL = CfgNode()\n",
    "# Type of model to use\n",
    "_C.MODEL.NAME = \"MyModel\"\n",
    "```\n",
    "\n",
    "These default values can be overridden by the `.yml` files in the `configs` directory. Run the following code cell to load the configuration `base.yml` to override the default `MODEL.NAME` value in the `config.py` file.\n"
   ]
  },
  {
   "metadata": {},
   "cell_type": "code",
   "source": [
    "from config import get_cfg_defaults\n",
    "\n",
    "cfg = get_cfg_defaults()\n",
    "cfg.merge_from_file(\"configs/base.yml\")\n",
    "\n",
    "print(cfg)"
   ],
   "id": "f8021dad448235be",
   "outputs": [],
   "execution_count": null
  },
  {
   "metadata": {},
   "cell_type": "markdown",
   "source": [
    "You can see that the `MODEL.NAME` value has been overridden to `\"SVM\"` as specified in the `base.yml` file.\n",
    "\n",
    "Now let's change the configuration using `alternative.yml` file."
   ],
   "id": "ad037d6826115a8b"
  },
  {
   "metadata": {},
   "cell_type": "code",
   "source": [
    "cfg = get_cfg_defaults()\n",
    "cfg.merge_from_file(\"configs/alternative.yml\")\n",
    "\n",
    "print(cfg)"
   ],
   "id": "fde717dbe5a904a7",
   "outputs": [],
   "execution_count": null
  },
  {
   "metadata": {},
   "cell_type": "markdown",
   "source": [
    "You can see that both `DATASET.DATA_DIR` and `MODEL.NAME` values have been overridden to `/data` and `\"Transformer\"` respectively as specified in the `alternative.yml` file.\n",
    "\n",
    "The configuration system allows running the tutorials with different settings without modifying the core code, and therefore enables reproducibility and reusability of the code across different experiments."
   ],
   "id": "38149f7d3c5186ba"
  }
 ],
 "metadata": {
  "kernelspec": {
   "display_name": "torch",
   "language": "python",
   "name": "python3"
  },
  "language_info": {
   "name": "python",
   "version": "3.11.5"
  }
 },
 "nbformat": 4,
 "nbformat_minor": 5
}
