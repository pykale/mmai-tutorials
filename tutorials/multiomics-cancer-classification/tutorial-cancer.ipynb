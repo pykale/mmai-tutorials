{
  "cells": [
    {
      "cell_type": "markdown",
      "id": "dbd2571f",
      "metadata": {},
      "source": [
        "# Multiomics Cancer Classification\n",
        "\n",
        "![](https://github.com/pykale/mmai-tutorials/blob/main/tutorials/multiomics-cancer-classification/images/mogonet-pykale-api.png?raw=1)"
      ]
    },
    {
      "cell_type": "markdown",
      "id": "e0825580",
      "metadata": {},
      "source": [
        "In this tutorial, we will use a [**M**ulti-**O**mics **G**raph c**O**nvolutional **NET**works (MOGONET) by **Wang et al. (Nature Communication, 2021)**](https://www.nature.com/articles/s41467-021-23774-w) [1] pipeline implemented in [`PyKale`](https://github.com/pykale/pykale#) [2] to integrate **patient multiomics data** for **cancer classification**.\n",
        "\n",
        "We will work with multiomics data from [**BRCA** of TCGA](https://www.cancerimagingarchive.net/collection/tcga-brca/) [3], which has five subtypes as the labels of classification. Three omics modalities will be used: mRNA expression, DNA methylation, and miRNA expression.\n",
        "\n",
        "The multimodal approach used in this tutorial involves **late fusion**, where a cross-omics tensor is constructed for the prediction probability fusion across three omics modalities.\n",
        "\n",
        "The main tasks of this tutorial are:\n",
        "\n",
        "- Load BRCA dataset.\n",
        "- Define a MOGONET model.\n",
        "- Train and evaluate the MOGONET model on the multiomics data.\n",
        "- Obtain the feature importance and visualize the interpretation of the model."
      ]
    },
    {
      "cell_type": "markdown",
      "id": "b419011e",
      "metadata": {},
      "source": [
        "## Step 0: Environment Preparation\n",
        "\n",
        "As a starting point, we will install the required packages and load a set of helper functions to assist throughout this tutorial. To keep the output clean and focused on interpretation, we will also suppress warnings.\n",
        "\n",
        "To prepare the helper functions and necessary materials, we download them from the GitHub repository."
      ]
    },
    {
      "cell_type": "code",
      "execution_count": null,
      "id": "551867b5",
      "metadata": {},
      "outputs": [],
      "source": [
        "import os\n",
        "\n",
        "!rm -rf /content/mmai-tutorials\n",
        "!git clone https://github.com/pykale/mmai-tutorials.git\n",
        "\n",
        "%cd /content/mmai-tutorials/tutorials/multiomics-cancer-classification\n",
        "\n",
        "print(\"Changed working directory to:\", os.getcwd())"
      ]
    },
    {
      "cell_type": "markdown",
      "id": "e014d91d",
      "metadata": {},
      "source": [
        "### Package Installation"
      ]
    },
    {
      "cell_type": "markdown",
      "id": "41ce5cef",
      "metadata": {},
      "source": [
        "The main package required for this tutorial is `PyKale`.\n",
        "\n",
        "`PyKale` is an open-source interdisciplinary machine learning library developed at the University of Sheffield, with a focus on applications in biomedical and scientific domains.\n",
        "\n",
        "Then, we install `PyG` (PyTorch Geometric) and related packages.\n",
        "\n",
        "[**WARNING**] Please **do not** re-run this session after installation completed. Runing this installation multiple times will trigger issues related to `PyG`. If you want to re-run this installation, please click the `Runtime` on the top menu and choose `Disconnect and delete runtime` before installing.\n",
        "\n",
        "[Estimated running time] 3 mins"
      ]
    },
    {
      "cell_type": "code",
      "execution_count": null,
      "id": "6050d5b4",
      "metadata": {},
      "outputs": [],
      "source": [
        "%pip install --quiet \\\n",
        "    \"pykale[example]@git+https://github.com/pykale/pykale@main\" \\\n",
        "    gdown==5.2.0 torch-geometric==2.6.0 torch_sparse torch_scatter \\\n",
        "    -f https://data.pyg.org/whl/torch-2.6.0+cu124.html \\\n",
        "    && echo \"pykale, gdown, nilearn, and yacs installed successfully ✅\" \\\n",
        "    || echo \"Failed to install pykale, gdown, nilearn, and yacs ❌\""
      ]
    },
    {
      "cell_type": "markdown",
      "id": "2027e726",
      "metadata": {},
      "source": [
        "We then hide the warnings messages to get a clear output."
      ]
    },
    {
      "cell_type": "code",
      "execution_count": null,
      "id": "1c9c4856",
      "metadata": {},
      "outputs": [],
      "source": [
        "import os\n",
        "import warnings\n",
        "\n",
        "warnings.filterwarnings(\"ignore\")\n",
        "os.environ[\"PYTHONWARNINGS\"] = \"ignore\""
      ]
    },
    {
      "cell_type": "markdown",
      "id": "6b32af98",
      "metadata": {},
      "source": [
        "### Configuration\n",
        "\n",
        "To minimize the footprint of the notebook when specifying configurations, we provide a [`config.py`](https://github.com/pykale/mmai-tutorial/blob/main/tutorials/multiomics-cancer-classification/config.py) file that defines default parameters. These can be customized by supplying a `.yaml` configuration file, such as [`configs/BRCA.yaml`](https://github.com/pykale/mmai-tutorial/blob/main/tutorials/multiomics-cancer-classification/configs/BRCA.yaml) as an example.\n",
        "\n",
        "First, we load the configuration from [`configs/BRCA.yaml`](https://github.com/pykale/mmai-tutorial/blob/main/tutorials/multiomics-cancer-classification/configs/BRCA.yaml)."
      ]
    },
    {
      "cell_type": "code",
      "execution_count": null,
      "id": "20700eaf",
      "metadata": {},
      "outputs": [],
      "source": [
        "from config import get_cfg_defaults\n",
        "\n",
        "cfg = get_cfg_defaults()\n",
        "cfg.merge_from_file(\"configs/BRCA.yaml\")"
      ]
    },
    {
      "cell_type": "markdown",
      "id": "66a1eb4b",
      "metadata": {},
      "source": [
        "In this tutorial, we list the hyperparameters we would like users to play with outside the `.yaml` file:\n",
        "- `cfg.SOLVER.MAX_EPOCHS_PRETRAIN`: Number of epochs in pre-training stage.\n",
        "- `cfg.SOLVER.MAX_EPOCHS`: Number of epochs in training stage.\n",
        "- `cfg.DATASET.NUM_MODALITIES`: Number of modalities in the pipeline.\n",
        "  - `1`: mRNA expression.\n",
        "  - `2`: mRNA expression + DNA methylation.\n",
        "  - `3`: mRNA expression + DNA methylation + miRNA expression.\n",
        "\n",
        "[**NOTE**] Because this tutorial aims to demonmstrate `PyKale` pipeline, we only set `cfg.SOLVER.MAX_EPOCHS_PRETRAIN=100` and `cfg.SOLVER.MAX_EPOCHS=500` to reduce the training time.\n",
        "If users are interested, please increase them to get more accurate predictions."
      ]
    },
    {
      "cell_type": "code",
      "execution_count": null,
      "id": "f1f8bb7c",
      "metadata": {},
      "outputs": [],
      "source": [
        "cfg.SOLVER.MAX_EPOCHS_PRETRAIN = 100\n",
        "cfg.SOLVER.MAX_EPOCHS = 500\n",
        "cfg.DATASET.NUM_MODALITIES = 3"
      ]
    },
    {
      "cell_type": "markdown",
      "id": "3bdf97a1",
      "metadata": {},
      "source": [
        "Print hyperparameters:"
      ]
    },
    {
      "cell_type": "code",
      "execution_count": null,
      "id": "f85914b1",
      "metadata": {},
      "outputs": [],
      "source": [
        "print(cfg)"
      ]
    },
    {
      "cell_type": "markdown",
      "id": "317fcb9b",
      "metadata": {},
      "source": [
        "## Step 1: Data Loading and Preparation\n",
        "\n",
        "We use the multiomics benchmark **BRCA** in this tutorial, which have been provided by the authors of MOGONET paper in [their repository](https://github.com/txWang/MOGONET).\n",
        "\n",
        "If users are interested in more details regarding **data organization, downloading, loading, and pre-processing**, please refer to the [Data page](https://pykale.github.io/mmai-tutorials/tutorials/multiomics-cancer-classification/extend-reading/data.html) of the tutorial."
      ]
    },
    {
      "cell_type": "markdown",
      "id": "8bf5c0c0",
      "metadata": {},
      "source": [
        "Delete the potential existing data and download new version:"
      ]
    },
    {
      "cell_type": "code",
      "execution_count": null,
      "id": "2ecd6082",
      "metadata": {},
      "outputs": [],
      "source": [
        "!rm -rf dataset/"
      ]
    },
    {
      "cell_type": "markdown",
      "id": "868bcf23",
      "metadata": {},
      "source": [
        "To load data, we first define a list the names of data files:"
      ]
    },
    {
      "cell_type": "code",
      "execution_count": null,
      "id": "1352ea41",
      "metadata": {},
      "outputs": [],
      "source": [
        "file_names = []\n",
        "for modality in range(1, cfg.DATASET.NUM_MODALITIES + 1):\n",
        "    file_names.append(f\"{modality}_tr.csv\")\n",
        "    file_names.append(f\"{modality}_lbl_tr.csv\")\n",
        "    file_names.append(f\"{modality}_te.csv\")\n",
        "    file_names.append(f\"{modality}_lbl_te.csv\")\n",
        "    file_names.append(f\"{modality}_feat_name.csv\")"
      ]
    },
    {
      "cell_type": "markdown",
      "id": "ef417d0c",
      "metadata": {},
      "source": [
        "Then, we download, load, and pre-process the data by `PyKale`.\n",
        "\n",
        "[Estimated running time] 20s"
      ]
    },
    {
      "cell_type": "code",
      "execution_count": null,
      "id": "9041fabd",
      "metadata": {},
      "outputs": [],
      "source": [
        "import torch\n",
        "from kale.loaddata.multiomics_datasets import SparseMultiomicsDataset\n",
        "from kale.prepdata.tabular_transform import ToOneHotEncoding, ToTensor\n",
        "\n",
        "multiomics_data = SparseMultiomicsDataset(\n",
        "    root=cfg.DATASET.ROOT,\n",
        "    raw_file_names=file_names,\n",
        "    num_modalities=cfg.DATASET.NUM_MODALITIES,\n",
        "    num_classes=cfg.DATASET.NUM_CLASSES,\n",
        "    edge_per_node=cfg.MODEL.EDGE_PER_NODE,\n",
        "    url=cfg.DATASET.URL,\n",
        "    random_split=cfg.DATASET.RANDOM_SPLIT,\n",
        "    equal_weight=cfg.MODEL.EQUAL_WEIGHT,\n",
        "    pre_transform=ToTensor(dtype=torch.float),\n",
        "    target_pre_transform=ToOneHotEncoding(dtype=torch.float),\n",
        ")"
      ]
    },
    {
      "cell_type": "markdown",
      "id": "c8819b69",
      "metadata": {},
      "source": [
        "Inspect the dataset:"
      ]
    },
    {
      "cell_type": "code",
      "execution_count": null,
      "id": "676ebd93",
      "metadata": {},
      "outputs": [],
      "source": [
        "print(multiomics_data)"
      ]
    },
    {
      "cell_type": "markdown",
      "id": "910ca35a",
      "metadata": {},
      "source": [
        "## Step 2: Model Definition"
      ]
    },
    {
      "cell_type": "markdown",
      "id": "007e4533",
      "metadata": {},
      "source": [
        "If users are interested in more details regarding the model, please refer to the [Helper Function & Model Definition](https://pykale.github.io/mmai-tutorials/tutorials/multiomics-cancer-classification/extend-reading/helper-functions.html) of the tutorial.\n",
        "\n",
        "To initialize the model, we firstly call `MogonetModel` from [`model.py`](https://github.com/pykale/mmai-tutorials/blob/main/tutorials/multiomics-cancer-classification/model.py)."
      ]
    },
    {
      "cell_type": "code",
      "execution_count": null,
      "id": "1537ce26",
      "metadata": {},
      "outputs": [],
      "source": [
        "from model import MogonetModel\n",
        "\n",
        "mogonet_model = MogonetModel(cfg, dataset=multiomics_data)"
      ]
    },
    {
      "cell_type": "markdown",
      "id": "3bcb4126",
      "metadata": {},
      "source": [
        "Visualize the model architecture:"
      ]
    },
    {
      "cell_type": "code",
      "execution_count": null,
      "id": "da221bd6",
      "metadata": {},
      "outputs": [],
      "source": [
        "print(mogonet_model)"
      ]
    },
    {
      "cell_type": "markdown",
      "id": "38d9195c",
      "metadata": {},
      "source": [
        "## Step 3: Model Training"
      ]
    },
    {
      "cell_type": "markdown",
      "id": "a7f6ad5c",
      "metadata": {},
      "source": [
        "### Pretrain Unimodal Encoders\n",
        "\n",
        "Before training the multiomics model, we first pretrain encoders for each modality independently. This step helps each GCN encoder learn a good representation of its respective modality before integration.\n",
        "\n",
        "We can define the trainer of pretraining stage by:"
      ]
    },
    {
      "cell_type": "code",
      "execution_count": null,
      "id": "7383c5c1",
      "metadata": {},
      "outputs": [],
      "source": [
        "import pytorch_lightning as pl\n",
        "\n",
        "network = mogonet_model.get_model(pretrain=True)\n",
        "trainer_pretrain = pl.Trainer(\n",
        "    max_epochs=cfg.SOLVER.MAX_EPOCHS_PRETRAIN,\n",
        "    default_root_dir=cfg.OUTPUT.OUT_DIR,\n",
        "    accelerator=\"auto\",\n",
        "    devices=\"auto\",\n",
        "    enable_model_summary=False,\n",
        ")"
      ]
    },
    {
      "cell_type": "markdown",
      "id": "b0c71889",
      "metadata": {},
      "source": [
        "We pretrain the model by:\n",
        "\n",
        "\n",
        "[Estimated running time] 15s for 100 epochs"
      ]
    },
    {
      "cell_type": "code",
      "execution_count": null,
      "id": "2b42b719",
      "metadata": {},
      "outputs": [],
      "source": [
        "trainer_pretrain.fit(network)"
      ]
    },
    {
      "cell_type": "markdown",
      "id": "0b03d93e",
      "metadata": {},
      "source": [
        "### Train the Multimodal Model\n",
        "After pretraining the unimodal pathways, we now train the full MOGONET model by enabling the VCDN. In this stage, all modality-specific encoders and VCDN are trained.\n",
        "\n",
        "We define the trainer of multimodal training by:"
      ]
    },
    {
      "cell_type": "code",
      "execution_count": null,
      "id": "e94b710d",
      "metadata": {},
      "outputs": [],
      "source": [
        "network = mogonet_model.get_model(pretrain=False)\n",
        "trainer = pl.Trainer(\n",
        "    max_epochs=cfg.SOLVER.MAX_EPOCHS,\n",
        "    default_root_dir=cfg.OUTPUT.OUT_DIR,\n",
        "    accelerator=\"auto\",\n",
        "    devices=\"auto\",\n",
        "    enable_model_summary=False,\n",
        "    log_every_n_steps=1,\n",
        ")"
      ]
    },
    {
      "cell_type": "markdown",
      "id": "31b76385",
      "metadata": {},
      "source": [
        "We start the multimodal training by:\n",
        "\n",
        "\n",
        "[Estimated running time] 1 min for 500 epochs"
      ]
    },
    {
      "cell_type": "code",
      "execution_count": null,
      "id": "b3e66c8f",
      "metadata": {},
      "outputs": [],
      "source": [
        "trainer.fit(network)"
      ]
    },
    {
      "cell_type": "markdown",
      "id": "d41dc02a",
      "metadata": {},
      "source": [
        "## Step 4: Evaluation\n",
        "Once training is complete, we evaluate the model on the test set using `trainer.test()`."
      ]
    },
    {
      "cell_type": "code",
      "execution_count": null,
      "id": "019e2e7b",
      "metadata": {},
      "outputs": [],
      "source": [
        "trainer.test(network)"
      ]
    },
    {
      "cell_type": "markdown",
      "id": "719c655c",
      "metadata": {},
      "source": [
        "## Step 5: Interpretation Study\n",
        "We use `kale.interpret` to perform interpretation, where a function that systematically masks input features and observes the effect on performance—highlighting which features are most important for classification is provided. Please refer to [Interpretation Study page](https://pykale.github.io/mmai-tutorials/tutorials/multiomics-cancer-classification/extend-reading/interpretation-study.html) for more details.\n",
        "\n",
        "Because the interpretation study needs us to mask one feature and observe the performance drop, we firstly define the trainer for the interpretation experiments.\n",
        "\n",
        "[**NOTE**] The final results may be different from what they should be because we only train the model for a few epochs to reduce waiting time in this tutorial."
      ]
    },
    {
      "cell_type": "code",
      "execution_count": null,
      "id": "f061dd93",
      "metadata": {},
      "outputs": [],
      "source": [
        "from kale.interpret.model_weights import select_top_features_by_masking\n",
        "import pytorch_lightning as pl\n",
        "\n",
        "trainer_biomarker = pl.Trainer(\n",
        "    max_epochs=cfg.SOLVER.MAX_EPOCHS,\n",
        "    accelerator=\"auto\",\n",
        "    devices=\"auto\",\n",
        "    enable_progress_bar=False,\n",
        ")"
      ]
    },
    {
      "cell_type": "markdown",
      "id": "38a31ccf",
      "metadata": {},
      "source": [
        "Then, we start the experiment."
      ]
    },
    {
      "cell_type": "markdown",
      "id": "4a754a08",
      "metadata": {},
      "source": [
        "To supress the verbose messages in the following experiments:"
      ]
    },
    {
      "cell_type": "code",
      "execution_count": null,
      "id": "e428229c",
      "metadata": {},
      "outputs": [],
      "source": [
        "import logging\n",
        "\n",
        "logging.getLogger(\"pytorch_lightning\").setLevel(logging.ERROR)"
      ]
    },
    {
      "cell_type": "markdown",
      "id": "8565e576",
      "metadata": {},
      "source": [
        "Run the interpretation experiments:\n",
        "\n",
        "[Estimated running time] Because the following block will train the model for 2,503 times for BRCA dataset, the following block may take about 6 minutes."
      ]
    },
    {
      "cell_type": "code",
      "execution_count": null,
      "id": "2dd9e5e3",
      "metadata": {},
      "outputs": [],
      "source": [
        "f1_key = \"F1\" if multiomics_data.num_classes == 2 else \"F1 macro\"\n",
        "df_featimp_top = select_top_features_by_masking(\n",
        "    trainer=trainer_biomarker,\n",
        "    model=network,\n",
        "    dataset=multiomics_data,\n",
        "    metric=f1_key,\n",
        "    num_top_feats=30,\n",
        "    verbose=False,\n",
        ")"
      ]
    },
    {
      "cell_type": "markdown",
      "id": "964300ae",
      "metadata": {},
      "source": [
        "Print the most important features:"
      ]
    },
    {
      "cell_type": "code",
      "execution_count": null,
      "id": "c984bdb1",
      "metadata": {},
      "outputs": [],
      "source": [
        "print(\"{:>4}\\t{:<20}\\t{:>5}\\t{}\".format(\"Rank\", \"Feature name\", \"Omics\", \"Importance\"))\n",
        "for rank, row in enumerate(df_featimp_top.itertuples(index=False), 1):\n",
        "    print(f\"{rank:>4}\\t{row.feat_name:<20}\\t{row.omics:>5}\\t{row.imp:.4f}\")"
      ]
    },
    {
      "cell_type": "markdown",
      "id": "1da8fd92",
      "metadata": {},
      "source": [
        "## References\n",
        "\n",
        "[1] Wang, T., Shao, W., Huang, Z., Tang, H., Zhang, J., Ding, Z., & Huang, K. (2021). MOGONET integrates multi-omics data using graph convolutional networks allowing patient classification and biomarker identification. Nature communications, 12(1), 3445.\n",
        "\n",
        "[2] Lu, H., Liu, X., Zhou, S., Turner, R., Bai, P., Koot, R. E., ... & Xu, H. (2022, October). PyKale: Knowledge-aware machine learning from multiple sources in Python. In _Proceedings of the 31st ACM International Conference on Information & Knowledge Management_ (pp. 4274-4278).\n",
        "\n",
        "[3] Lingle, W., Erickson, B. J., Zuley, M. L., Jarosz, R., Bonaccio, E., Filippini, J., Net, J. M., Levi, L., Morris, E. A., Figler, G. G., Elnajjar, P., Kirk, S., Lee, Y., Giger, M., & Gruszauskas, N. (2016). The Cancer Genome Atlas Breast Invasive Carcinoma Collection (TCGA-BRCA) (Version 3) [Data set]. The Cancer Imaging Archive.\n",
        "\n",
        "<!-- Brigham & Women’s Hospital & Harvard Medical School Chin Lynda 9 11 Park Peter J. 12 Kucherlapati Raju 13, Genome data analysis: Baylor College of Medicine Creighton Chad J. 22 23 Donehower Lawrence A. 22 23 24 25, Institute for Systems Biology Reynolds Sheila 31 Kreisberg Richard B. 31 Bernard Brady 31 Bressler Ryan 31 Erkkila Timo 32 Lin Jake 31 Thorsson Vesteinn 31 Zhang Wei 33 Shmulevich Ilya 31, Oregon Health & Science University Anur Pavana 37 Spellman Paul T. 37, NCI Yan Chunhua 44 Hu Ying 44 Meerzaman Daoud 44, Tissue source sites: ABS-IUPUI Tarvin Katie 48 Saller Charles 49 Sandusky George 50 Mitchell Colleen 50, ... & National Human Genome Research Institute Ozenberger Bradley A. 91 Guyer Mark S. 91 Sofia Heidi J. 91 Palchik Jacqueline D. 91. (2012). Comprehensive molecular portraits of human breast tumours. Nature, 490(7418), 61-70. -->\n",
        "\n"
      ]
    }
  ],
  "metadata": {
    "kernelspec": {
      "display_name": "Python 3",
      "name": "python3"
    }
  },
  "nbformat": 4,
  "nbformat_minor": 5
}
