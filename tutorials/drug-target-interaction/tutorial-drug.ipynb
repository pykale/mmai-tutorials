{
 "cells": [
  {
   "cell_type": "markdown",
   "id": "8c1bf9c7",
   "metadata": {},
   "source": [
    "# Drug–Target Interaction Prediction\n",
    "\n",
    "![](https://github.com/pykale/mmai-tutorials/blob/main/tutorials/drug-target-interaction/images/drugban-pyakle-api.png?raw=1)\n",
    "\n",
    "\n",
    "In this tutorial, we will train models to predict the interaction between **two data modalities**: **molecules (drug)** and **proteins (target)** using [`PyKale`](https://github.com/pykale/pykale) [1]. Drug-target interaction (DTI) plays a key role in drug discovery and identifying potential therapeutic targets. The DTI prediction problem is formulated as a **binary classification task**, where the goal is to predict whether a given **drug–protein pair interacts or not**.\n",
    "\n",
    "Two datasets are provided for this tutorial: [**BioSNAP**](https://snap.stanford.edu/biodata/) [2] or [**BindingDB**](https://www.bindingdb.org/rwd/bind/index.jsp) [3], where the main content is demonstrated using the BioSNAP dataset.\n",
    "\n",
    "The tutorial is based on the **DrugBAN** framework by [**Bai et al. (_Nature Machine Intelligence_, 2023)**](https://www.nature.com/articles/s42256-022-00605-1) [4], with the following key features:\n",
    "\n",
    "- **Bilinear Attention Network (BAN)**, which learns detailed feature representations for both drugs and proteins and captures local interaction patterns between them.\n",
    "\n",
    "- **Adversarial Domain Adaptation**, which helps the model generalise to out-of-distribution datasets, i.e., in **_clustering-based cross-validation_** instead of **_random splits_**, improving its ability to predict interactions on unseen drug–target pairs.\n",
    "\n",
    "The multimodal approach used in this tutorial involves **interaction**, where bilinear interaction between protein and molecular embedding is used to learn the joint representation of drug and protein features. \n",
    "\n",
    "The main tasks of this tutorial are:\n",
    "\n",
    "- Load molecule and protein data\n",
    "- Train and evaluate a DTI prediction model\n",
    "- Visualise the model's attention on the drug and protein features\n"
   ]
  },
  {
   "cell_type": "markdown",
   "id": "745ccdcf",
   "metadata": {},
   "source": [
    "## Step 0: Environment Preparation\n",
    "\n",
    "As a starting point, we will install the required packages and load a set of helper functions to assist throughout this tutorial.\n",
    "\n",
    "To prepare the helper functions and necessary materials, we download them from the GitHub repository.\n",
    "\n",
    "Moreover, we provide helper functions that can be inspected directly in the `.py` files located in the notebook's current directory. The additional helper script is:\n",
    "- [`config.py`](https://github.com/pykale/embc-mmai25/blob/main/tutorials/drug-target-interaction/configs.py): Defines the base configuration settings, which can be overridden using a custom `.yaml` file."
   ]
  },
  {
   "cell_type": "code",
   "execution_count": 1,
   "id": "a6028209",
   "metadata": {
    "tags": [
     "hide-input"
    ]
   },
   "outputs": [],
   "source": [
    "import sys\n",
    "import site\n",
    "\n",
    "if \"google.colab\" in str(get_ipython()):\n",
    "    sys.path.insert(0, site.getusersitepackages())\n",
    "    !git clone -q --single-branch -b main https://github.com/pykale/mmai-tutorials\n",
    "    %cp -rf /content/mmai-tutorials/tutorials/drug-target-interaction/* /content/\n",
    "    %rm -r /content/mmai-tutorials"
   ]
  },
  {
   "cell_type": "markdown",
   "id": "c52c6334",
   "metadata": {},
   "source": [
    "### Package Installation\n",
    "\n",
    "The main package required for this tutorial is `PyKale`.\n",
    "\n",
    "`PyKale` is an open-source interdisciplinary machine learning library developed at the University of Sheffield, with a focus on applications in biomedical and scientific domains.\n",
    "\n",
    "Then, we install `PyG` (PyTorch Geometric) and related packages.\n",
    "\n",
    "<!-- Please **do not** re-run this session after installation completed. Runing this installation multiple times will trigger issues related to `PyG`. If you want to re-run this installation, please click the `Runtime` on the top menu and choose `Disconnect and delete runtime` before installing. -->"
   ]
  },
  {
   "cell_type": "code",
   "execution_count": 2,
   "id": "53e3b14e",
   "metadata": {
    "tags": [
     "hide-input",
     "hide-output"
    ]
   },
   "outputs": [],
   "source": [
    "%%capture\n",
    "!pip install --quiet \\\n",
    "    \"pykale[example]@git+https://github.com/pykale/pykale@main\" \\\n",
    "    gdown==5.2.0 torch-geometric==2.6.0 torch_sparse torch_scatter \\\n",
    "    -f https://data.pyg.org/whl/torch-2.6.0+cu124.html"
   ]
  },
  {
   "cell_type": "markdown",
   "id": "69f50b6a",
   "metadata": {},
   "source": [
    "We then hide the warnings messages to get a clear output."
   ]
  },
  {
   "cell_type": "code",
   "execution_count": 3,
   "id": "6e871c63",
   "metadata": {},
   "outputs": [],
   "source": [
    "import os\n",
    "import warnings\n",
    "\n",
    "from rdkit import RDLogger\n",
    "\n",
    "warnings.filterwarnings(\"ignore\")\n",
    "os.environ[\"PYTHONWARNINGS\"] = \"ignore\"\n",
    "\n",
    "RDLogger.DisableLog(\"rdApp.*\")"
   ]
  },
  {
   "cell_type": "markdown",
   "id": "6606e3fb",
   "metadata": {},
   "source": [
    "Exercise: Check NumPy Version"
   ]
  },
  {
   "cell_type": "code",
   "execution_count": 4,
   "id": "0d384020",
   "metadata": {},
   "outputs": [
    {
     "name": "stdout",
     "output_type": "stream",
     "text": [
      "NumPy version: 2.2.6\n"
     ]
    }
   ],
   "source": [
    "import numpy as np\n",
    "\n",
    "print(\"NumPy version:\", np.__version__)  # numpy should be 2.0.0 or higher"
   ]
  },
  {
   "cell_type": "markdown",
   "id": "cabd3406",
   "metadata": {},
   "source": [
    "### Configuration\n",
    "\n",
    "To minimize the footprint of the notebook when specifying configurations, we provide a [`config.py`](https://github.com/pykale/embc-mmai25/blob/main/tutorials/drug-target-interaction/configs.py) file that defines default parameters. These can be customized by supplying a `.yaml` configuration file, such as [`configs/DA_cross_domain.yaml`](https://github.com/pykale/embc-mmai25/blob/main/tutorials/drug-target-interaction/configs/DA_cross_domain.yaml) as an example."
   ]
  },
  {
   "cell_type": "code",
   "execution_count": 5,
   "id": "55c13b48",
   "metadata": {},
   "outputs": [],
   "source": [
    "from configs import get_cfg_defaults\n",
    "\n",
    "cfg = get_cfg_defaults()  # Load the default settings from config.py\n",
    "cfg.merge_from_file(\n",
    "    \"configs/DA_cross_domain.yaml\"\n",
    ")  # Update (or override) some of those settings using a custom YAML file"
   ]
  },
  {
   "cell_type": "markdown",
   "id": "74ffdbc2",
   "metadata": {},
   "source": [
    "In this tutorial, we list the hyperparameters we would like users to play with outside the `.yaml` file:\n",
    "- `cfg.SOLVER.MAX_EPOCH`: Number of epochs in training stage. You can reduce the number of training epochs to shorten runtime.\n",
    "- `cfg.DATA.DATASET`: The dataset used in the study. This can be [`bindingdb`](https://www.bindingdb.org/rwd/bind/index.jsp) or [`biosnap`](https://snap.stanford.edu/biodata/).\n",
    "\n",
    "As a quick exercise, please take a moment to review and understand the parameters in [`config.py`](https://github.com/pykale/embc-mmai25/blob/main/tutorials/drug-target-interaction/configs.py)."
   ]
  },
  {
   "cell_type": "markdown",
   "id": "f811ef4370c768b",
   "metadata": {},
   "source": [
    "To save time, we set the maximum number of epochs to 5. You can increase this value later to improve model performance."
   ]
  },
  {
   "cell_type": "code",
   "execution_count": 6,
   "id": "424c7286",
   "metadata": {},
   "outputs": [],
   "source": [
    "cfg.SOLVER.MAX_EPOCH = 5"
   ]
  },
  {
   "cell_type": "markdown",
   "id": "97c088fd",
   "metadata": {},
   "source": [
    "You can also switch to a different dataset."
   ]
  },
  {
   "cell_type": "code",
   "execution_count": 7,
   "id": "c69376fa",
   "metadata": {},
   "outputs": [],
   "source": [
    "cfg.DATA.DATASET = \"biosnap\""
   ]
  },
  {
   "cell_type": "markdown",
   "id": "d3d41633",
   "metadata": {},
   "source": [
    "Exercise: Now print the full configuration to check all current hyperparameter and dataset settings."
   ]
  },
  {
   "cell_type": "code",
   "execution_count": 8,
   "id": "45874296",
   "metadata": {},
   "outputs": [
    {
     "name": "stdout",
     "output_type": "stream",
     "text": [
      "BCN:\n",
      "  HEADS: 2\n",
      "COMET:\n",
      "  API_KEY: \n",
      "  EXPERIMENT_NAME: DA_cross_domain\n",
      "  PROJECT_NAME: drugban-23-May\n",
      "  TAG: DrugBAN_CDAN\n",
      "  USE: False\n",
      "DA:\n",
      "  INIT_EPOCH: 10\n",
      "  LAMB_DA: 1\n",
      "  METHOD: CDAN\n",
      "  ORIGINAL_RANDOM: True\n",
      "  RANDOM_DIM: 256\n",
      "  RANDOM_LAYER: True\n",
      "  TASK: True\n",
      "  USE: True\n",
      "  USE_ENTROPY: False\n",
      "DATA:\n",
      "  DATASET: biosnap\n",
      "  SPLIT: cluster\n",
      "DECODER:\n",
      "  BINARY: 2\n",
      "  HIDDEN_DIM: 512\n",
      "  IN_DIM: 256\n",
      "  NAME: MLP\n",
      "  OUT_DIM: 128\n",
      "DRUG:\n",
      "  HIDDEN_LAYERS: [128, 128, 128]\n",
      "  MAX_NODES: 290\n",
      "  NODE_IN_EMBEDDING: 128\n",
      "  NODE_IN_FEATS: 7\n",
      "  PADDING: True\n",
      "PROTEIN:\n",
      "  EMBEDDING_DIM: 128\n",
      "  KERNEL_SIZE: [3, 6, 9]\n",
      "  NUM_FILTERS: [128, 128, 128]\n",
      "  PADDING: True\n",
      "RESULT:\n",
      "  SAVE_MODEL: True\n",
      "SOLVER:\n",
      "  BATCH_SIZE: 32\n",
      "  DA_LEARNING_RATE: 5e-05\n",
      "  LEARNING_RATE: 0.0001\n",
      "  MAX_EPOCH: 5\n",
      "  NUM_WORKERS: 0\n",
      "  SEED: 20\n"
     ]
    }
   ],
   "source": [
    "print(cfg)"
   ]
  },
  {
   "cell_type": "markdown",
   "id": "17558d0c",
   "metadata": {},
   "source": [
    "## Step 1: Data Loading and Preparation"
   ]
  },
  {
   "cell_type": "markdown",
   "id": "6c6071b9",
   "metadata": {},
   "source": [
    "### Data Downloading\n",
    "\n",
    "Please run the following cell to download necessary datasets."
   ]
  },
  {
   "cell_type": "code",
   "execution_count": 9,
   "id": "56f9f58e",
   "metadata": {
    "tags": [
     "hide-input",
     "hide-output"
    ]
   },
   "outputs": [
    {
     "name": "stdout",
     "output_type": "stream",
     "text": [
      "Downloading...\n",
      "From (original): https://drive.google.com/uc?id=1ogOcxZn-1q418LOT-gQ94aHQV0Y1sOmk\n",
      "From (redirected): https://drive.google.com/uc?id=1ogOcxZn-1q418LOT-gQ94aHQV0Y1sOmk&confirm=t&uuid=d01bab20-b2f9-41cb-a5ea-259903d5854c\n",
      "To: /home/zarizky/projects/mmai-tutorials/tutorials/drug-target-interaction/data/drug-target-interaction.zip\n",
      "100%|██████████████████████████████████████| 88.3M/88.3M [00:00<00:00, 94.5MB/s]\n"
     ]
    }
   ],
   "source": [
    "!rm -rf data checkpoint && mkdir data\n",
    "!gdown 1ogOcxZn-1q418LOT-gQ94aHQV0Y1sOmk --output data/drug-target-interaction.zip\n",
    "!unzip -qo data/drug-target-interaction.zip -d data/\n",
    "!mv data/drug-target-interaction/checkpoint ./"
   ]
  },
  {
   "cell_type": "markdown",
   "id": "c39b3e39",
   "metadata": {},
   "source": [
    "Exercise: Check the data is ready"
   ]
  },
  {
   "cell_type": "code",
   "execution_count": 10,
   "id": "a6258d1f",
   "metadata": {},
   "outputs": [
    {
     "name": "stdout",
     "output_type": "stream",
     "text": [
      "Contents of the data folder:\n",
      "bindingdb\n",
      "biosnap\n"
     ]
    }
   ],
   "source": [
    "import os\n",
    "import shutil\n",
    "\n",
    "print(\"Contents of the data folder:\")\n",
    "for item in os.listdir(\"data/drug-target-interaction\"):\n",
    "    print(item)"
   ]
  },
  {
   "cell_type": "markdown",
   "id": "9ab0b5f833dc40f8",
   "metadata": {},
   "source": [
    "The data content is structured as follows:\n",
    "```sh\n",
    "    ├───data\n",
    "    │   ├───checkpoint\n",
    "    │   ├───bindingdb\n",
    "    │   ├───biosnap\n",
    "```"
   ]
  },
  {
   "cell_type": "markdown",
   "id": "5be1dcc62b7d5649",
   "metadata": {},
   "source": [
    "The `data` folder contains two datasets: `bindingdb` and `biosnap`. Each dataset folder contains the following files. The `checkpoint` folder contains the saved model checkpoint, which are used later in the interpretation section."
   ]
  },
  {
   "cell_type": "code",
   "execution_count": 11,
   "id": "a93303c51c8b974e",
   "metadata": {},
   "outputs": [
    {
     "name": "stdout",
     "output_type": "stream",
     "text": [
      "Contents of bindingdb folder:\n",
      "interpretation_samples.csv\n",
      "random\n",
      "cluster\n",
      "full.csv\n"
     ]
    }
   ],
   "source": [
    "print(\"Contents of bindingdb folder:\")\n",
    "for item in os.listdir(\"data/drug-target-interaction/bindingdb\"):\n",
    "    print(item)"
   ]
  },
  {
   "cell_type": "markdown",
   "id": "79cbc1c1",
   "metadata": {},
   "source": [
    "Each dataset folder follows the structure:\n",
    "\n",
    "```sh\n",
    "    ├───dataset_name\n",
    "    │   ├───cluster\n",
    "    │   │   ├───source_train.csv\n",
    "    │   │   ├───target_train.csv\n",
    "    │   │   ├───target_test.csv\n",
    "    │   ├───random\n",
    "    │   │   ├───test.csv\n",
    "    │   │   ├───train.csv\n",
    "    │   │   ├───val.csv\n",
    "    │   ├───full.csv\n",
    "```"
   ]
  },
  {
   "cell_type": "markdown",
   "id": "d35e04f9",
   "metadata": {},
   "source": [
    "We use the cluster dataset folder for cross-domain prediction, containing three parts:\n",
    "\n",
    "- Train samples from the source domain: Drug–protein pairs the model learns from.\n",
    "\n",
    "- Train samples from the target domain: Additional training data from a different distribution to improve generalisation.\n",
    "\n",
    "- Test samples from the target domain: Unseen drug–protein pairs used to evaluate model performance on new data.\n",
    "\n",
    "The source and target sets are defined based on the clustering results."
   ]
  },
  {
   "cell_type": "markdown",
   "id": "98acf744",
   "metadata": {},
   "source": [
    "### Data Loading"
   ]
  },
  {
   "cell_type": "markdown",
   "id": "1e5f4f44",
   "metadata": {},
   "source": [
    "Here’s what each csv file looks like in a table format:\n",
    "\n",
    "| SMILES             | Protein Sequence         | Y |\n",
    "|--------------------|--------------------------|---|\n",
    "| Fc1ccc(C2(COC…)    | MDNVLPVDSDLS…            | 1 |\n",
    "| O=c1oc2c(O)c(…)    | MMYSKLLTLTTL…            | 0 |\n",
    "| CC(C)Oc1cc(N…)     | MGMACLTMTEME…            | 1 |\n",
    "\n",
    "Each row of the dataset contains three key pieces of information:\n",
    "\n",
    "**Drugs**:  \n",
    "Drugs are often written as SMILES strings, which are like chemical formulas in text format (for example, `\"CC(=O)OC1=CC=CC=C1C(=O)O\"` is aspirin).  \n",
    "\n",
    "\n",
    "**Protein Sequence**  \n",
    "This is a string of letters where each letter stands for an amino acid, the building blocks of proteins. For example, `MGYTSLLT...` is a short protein sequence.\n",
    "\n",
    "\n",
    "**Y (Labels)**:  \n",
    "Each drug–protein pair is given a label:\n",
    "- `1` if they interact\n",
    "- `0` if they do not\n",
    "\n",
    "\n",
    "Each row shows one drug–protein pair. The goal of our machine learning model is to predict the last column (**Y**) — whether or not the drug and protein interact."
   ]
  },
  {
   "cell_type": "markdown",
   "id": "b7590daf",
   "metadata": {},
   "source": [
    "You can load CSV files into Python using tools like `pandas`. The output shows a sample of the data, including the SMILES string for the drug, the protein sequence, the interaction label (Y) and the cluster ID."
   ]
  },
  {
   "cell_type": "code",
   "execution_count": 12,
   "id": "0c709e31",
   "metadata": {},
   "outputs": [
    {
     "name": "stdout",
     "output_type": "stream",
     "text": [
      "Sample example: SMILES                              CC1=CN=C2N1C=CN=C2NCC1=CC=NC=C1\n",
      "Protein           MARSLLLPLQILLLSLALETAGEEAQGDKIIDGAPCARGSHPWQVA...\n",
      "Y                                                               0.0\n",
      "drug_cluster                                                   1904\n",
      "target_cluster                                                 1528\n",
      "Name: 0, dtype: object\n"
     ]
    }
   ],
   "source": [
    "import pandas as pd\n",
    "\n",
    "dataFolder = os.path.join(\n",
    "    f\"data/drug-target-interaction/{cfg.DATA.DATASET}\", str(cfg.DATA.SPLIT)\n",
    ")\n",
    "\n",
    "df_train_source = pd.read_csv(os.path.join(dataFolder, \"source_train.csv\"))\n",
    "df_train_target = pd.read_csv(os.path.join(dataFolder, \"target_train.csv\"))\n",
    "df_test_target = pd.read_csv(os.path.join(dataFolder, \"target_test.csv\"))\n",
    "\n",
    "print(\"Sample example:\", df_train_source.iloc[0])"
   ]
  },
  {
   "cell_type": "markdown",
   "id": "542d4e69",
   "metadata": {},
   "source": [
    "### Data Preprocessing\n",
    "\n",
    "We convert drug SMILES strings into molecular graphs using `kale.loaddata.molecular_datasets.smiles_to_graph`, encoding atom-level features as node attributes and bond types as edges.\n",
    "\n",
    "\n",
    "Protein sequences are transformed into fixed-length integer arrays using `kale.prepdata.chem_transform.integer_label_protein`, with each amino acid mapped to an integer and sequences padded or truncated to a uniform length.\n",
    "\n",
    "Finally, the `kale.loaddata.molecular_datasets.DTIDataset` class packages drugs, proteins, and labels into a PyTorch-ready dataset."
   ]
  },
  {
   "cell_type": "markdown",
   "id": "981d5520",
   "metadata": {},
   "source": [
    "**Note:** If you encounter an error related to requiring numpy `<2.0`, simply ignore it and re-run this block until it completes successfully."
   ]
  },
  {
   "cell_type": "code",
   "execution_count": 13,
   "id": "ae5af8eb",
   "metadata": {},
   "outputs": [],
   "source": [
    "from kale.loaddata.molecular_datasets import DTIDataset\n",
    "\n",
    "# Create preprocessed datasets\n",
    "train_dataset = DTIDataset(df_train_source.index.values, df_train_source)\n",
    "train_target_dataset = DTIDataset(df_train_target.index.values, df_train_target)\n",
    "test_target_dataset = DTIDataset(df_test_target.index.values, df_test_target)"
   ]
  },
  {
   "cell_type": "markdown",
   "id": "a0a510ce",
   "metadata": {},
   "source": [
    "We load data in small, manageable pieces called batches to save memory and speed up training. We use `kale.loaddata.sampler.MultiDataLoader` from PyKale to load one batch from the source domain and one from the target domain at each training step."
   ]
  },
  {
   "cell_type": "markdown",
   "id": "c09084c0",
   "metadata": {},
   "source": [
    "First, we specify a few DataLoader parameters:\n",
    "- Batch size: Number of samples per batch\n",
    "- Shuffle: Randomly shuffle data\n",
    "- Number of workers: Parallel data loading\n",
    "- Drop last: Discard the last incomplete batch for consistent batch sizes\n",
    "- Collate function: Use graph_collate_func to batch variable-sized molecular graphs"
   ]
  },
  {
   "cell_type": "code",
   "execution_count": 14,
   "id": "94a15868",
   "metadata": {},
   "outputs": [
    {
     "data": {
      "text/plain": [
       "{'batch_size': 32,\n",
       " 'shuffle': True,\n",
       " 'num_workers': 0,\n",
       " 'drop_last': True,\n",
       " 'collate_fn': <function kale.loaddata.molecular_datasets.graph_collate_func(x)>}"
      ]
     },
     "execution_count": 14,
     "metadata": {},
     "output_type": "execute_result"
    }
   ],
   "source": [
    "from torch.utils.data import DataLoader\n",
    "from kale.loaddata.molecular_datasets import graph_collate_func\n",
    "from kale.loaddata.sampler import MultiDataLoader\n",
    "\n",
    "params = {\n",
    "    \"batch_size\": cfg.SOLVER.BATCH_SIZE,\n",
    "    \"shuffle\": True,\n",
    "    \"num_workers\": cfg.SOLVER.NUM_WORKERS,\n",
    "    \"drop_last\": True,\n",
    "    \"collate_fn\": graph_collate_func,\n",
    "}\n",
    "\n",
    "params"
   ]
  },
  {
   "cell_type": "markdown",
   "id": "e884ed07",
   "metadata": {},
   "source": [
    "Then, we create a DataLoader from both the source and target datasets for training."
   ]
  },
  {
   "cell_type": "code",
   "execution_count": 15,
   "id": "24ba12b5",
   "metadata": {},
   "outputs": [
    {
     "name": "stdout",
     "output_type": "stream",
     "text": [
      "Using domain adaptation: True\n"
     ]
    }
   ],
   "source": [
    "print(\"Using domain adaptation:\", cfg.DA.USE)\n",
    "\n",
    "if not cfg.DA.USE:\n",
    "    training_generator = DataLoader(train_dataset, **params)\n",
    "else:\n",
    "    source_generator = DataLoader(train_dataset, **params)\n",
    "    target_generator = DataLoader(train_target_dataset, **params)\n",
    "\n",
    "    # Get the number of batches in the longer dataset to align both\n",
    "    n_batches = max(len(source_generator), len(target_generator))\n",
    "\n",
    "    # Combine the source and target data loaders using MultiDataLoader\n",
    "    training_generator = MultiDataLoader(\n",
    "        dataloaders=[source_generator, target_generator], n_batches=n_batches\n",
    "    )"
   ]
  },
  {
   "cell_type": "markdown",
   "id": "649301de",
   "metadata": {},
   "source": [
    "Lastly, we set up DataLoaders for validation and testing. Since we don’t want to shuffle or drop any samples, we adjust the parameters accordingly."
   ]
  },
  {
   "cell_type": "code",
   "execution_count": 16,
   "id": "b4cf543a",
   "metadata": {},
   "outputs": [],
   "source": [
    "# Update parameters for validation/testing (no shuffling, keep all data)\n",
    "params.update({\"shuffle\": False, \"drop_last\": False})\n",
    "\n",
    "# Create validation and test data loaders\n",
    "valid_generator = DataLoader(test_target_dataset, **params)\n",
    "test_generator = DataLoader(test_target_dataset, **params)"
   ]
  },
  {
   "cell_type": "markdown",
   "id": "e474eea2",
   "metadata": {},
   "source": [
    "### Exercise: Dataset Inspection\n",
    "\n",
    "Once the dataset is ready, let’s inspect one sample from the training data to check the input graph, protein sequence, and label format."
   ]
  },
  {
   "cell_type": "code",
   "execution_count": 17,
   "id": "31b8a93f",
   "metadata": {},
   "outputs": [
    {
     "name": "stdout",
     "output_type": "stream",
     "text": [
      "First sample from source batch:\n",
      "Drug graph: Data(x=[290, 7], edge_index=[2, 50], edge_attr=[50, 1], num_nodes=290)\n",
      "Protein sequence: tensor([11.,  4., 12.,  ...,  0.,  0.,  0.], dtype=torch.float64)\n",
      "Label: tensor(1., dtype=torch.float64)\n"
     ]
    }
   ],
   "source": [
    "# Get the first batch (contains one batch from source and one from target)\n",
    "first_batch = next(iter(training_generator))\n",
    "\n",
    "# Unpack source and target batches\n",
    "source_batch, target_batch = first_batch\n",
    "\n",
    "# Inspect the first sample from the source batch\n",
    "print(\"First sample from source batch:\")\n",
    "print(\"Drug graph:\", source_batch[0][0])\n",
    "print(\"Protein sequence:\", source_batch[1][0])\n",
    "print(\"Label:\", source_batch[2][0])"
   ]
  },
  {
   "cell_type": "markdown",
   "id": "cb0b269b",
   "metadata": {},
   "source": [
    "This sample is a tuple with three parts:\n",
    "\n",
    "1. **Drug Graph**\n",
    "- `x=[290, 7]`: Feature matrix with 290 atoms (nodes) and 7 features per atom.\n",
    "- `edge_index=[2, 58]`: Shows 146 edges, with source and target node indices.\n",
    "- `edge_attr=[58, 1]`: Each edge has 1 bond feature, such as bond type.\n",
    "- `num_nodes=290`: Confirms the graph has 290 nodes.\n",
    "\n",
    "2. **Protein Features (array)**\n",
    "- Example values: `[11.,  1., 18., ...,  0.,  0.,  0.]`: A fixed-length numeric array representing the protein sequence. Each position holds an integer-encoded amino acid, with zeros for padding.\n",
    "\n",
    "3. **Label (float)**\n",
    "- `0.0`; The ground-truth interaction label indicating no interaction."
   ]
  },
  {
   "cell_type": "markdown",
   "id": "8eaf5c8f",
   "metadata": {},
   "source": [
    "## Step 2: Model Definition"
   ]
  },
  {
   "cell_type": "markdown",
   "id": "b2819549",
   "metadata": {},
   "source": [
    "### Embed\n",
    "\n",
    "DrugBAN consists of three main components: a Graph Convolutional Network (GCN) for extracting structural features from drug molecular graphs, a Convolutional Neural Network (CNN) for encoding protein sequences, and a Bilinear Attention Network (BAN) for fusing drug and protein features. The fused representation is then passed through a Multi-Layer Perceptron (MLP) classifier to predict interaction scores.\n",
    "\n",
    "We define the DrugBAN class in `kale.embed.ban`."
   ]
  },
  {
   "cell_type": "code",
   "execution_count": 18,
   "id": "1c8f3acc",
   "metadata": {},
   "outputs": [
    {
     "name": "stdout",
     "output_type": "stream",
     "text": [
      "DrugBAN(\n",
      "  (molecular_extractor): MolecularGCN(\n",
      "    (init_transform): Linear(in_features=7, out_features=128, bias=False)\n",
      "    (gcn_layers): ModuleList(\n",
      "      (0-2): 3 x GCNConv(128, 128)\n",
      "    )\n",
      "  )\n",
      "  (protein_extractor): ProteinCNN(\n",
      "    (embedding): Embedding(26, 128, padding_idx=0)\n",
      "    (conv1): Conv1d(128, 128, kernel_size=(3,), stride=(1,))\n",
      "    (bn1): BatchNorm1d(128, eps=1e-05, momentum=0.1, affine=True, track_running_stats=True)\n",
      "    (conv2): Conv1d(128, 128, kernel_size=(6,), stride=(1,))\n",
      "    (bn2): BatchNorm1d(128, eps=1e-05, momentum=0.1, affine=True, track_running_stats=True)\n",
      "    (conv3): Conv1d(128, 128, kernel_size=(9,), stride=(1,))\n",
      "    (bn3): BatchNorm1d(128, eps=1e-05, momentum=0.1, affine=True, track_running_stats=True)\n",
      "  )\n",
      "  (bcn): ParametrizedBANLayer(\n",
      "    (v_net): FCNet(\n",
      "      (main): Sequential(\n",
      "        (0): Dropout(p=0.2, inplace=False)\n",
      "        (1): Linear(in_features=128, out_features=768, bias=True)\n",
      "        (2): ReLU()\n",
      "      )\n",
      "    )\n",
      "    (q_net): FCNet(\n",
      "      (main): Sequential(\n",
      "        (0): Dropout(p=0.2, inplace=False)\n",
      "        (1): Linear(in_features=128, out_features=768, bias=True)\n",
      "        (2): ReLU()\n",
      "      )\n",
      "    )\n",
      "    (p_net): AvgPool1d(kernel_size=(3,), stride=(3,), padding=(0,))\n",
      "    (bn): BatchNorm1d(256, eps=1e-05, momentum=0.1, affine=True, track_running_stats=True)\n",
      "    (parametrizations): ModuleDict(\n",
      "      (h_mat): ParametrizationList(\n",
      "        (0): _WeightNorm()\n",
      "      )\n",
      "    )\n",
      "  )\n",
      "  (mlp_classifier): MLPDecoder(\n",
      "    (model): Sequential(\n",
      "      (0): Linear(in_features=256, out_features=512, bias=True)\n",
      "      (1): ReLU()\n",
      "      (2): Dropout(p=0.1, inplace=False)\n",
      "      (3): Linear(in_features=512, out_features=128, bias=True)\n",
      "      (4): ReLU()\n",
      "      (5): Linear(in_features=128, out_features=2, bias=True)\n",
      "    )\n",
      "  )\n",
      ")\n"
     ]
    }
   ],
   "source": [
    "from kale.embed.model_lib.drugban import DrugBAN\n",
    "\n",
    "model = DrugBAN(cfg)\n",
    "print(model)"
   ]
  },
  {
   "cell_type": "markdown",
   "id": "32084f24",
   "metadata": {},
   "source": [
    "### Predict\n",
    "We use the PyKale pipeline API `kale.pipeline.drugban_trainer` to connect dataloaders, encoders and outcoders for model training and evaluation."
   ]
  },
  {
   "cell_type": "code",
   "execution_count": 19,
   "id": "46e2b9b4",
   "metadata": {},
   "outputs": [],
   "source": [
    "from kale.pipeline.drugban_trainer import DrugbanTrainer\n",
    "\n",
    "drugban_trainer = DrugbanTrainer(\n",
    "    model=model,\n",
    "    solver_lr=cfg.SOLVER.LEARNING_RATE,\n",
    "    num_classes=cfg.DECODER.BINARY,\n",
    "    batch_size=cfg.SOLVER.BATCH_SIZE,\n",
    "    is_da=cfg.DA.USE,\n",
    "    solver_da_lr=cfg.SOLVER.DA_LEARNING_RATE,\n",
    "    da_init_epoch=cfg.DA.INIT_EPOCH,\n",
    "    da_method=cfg.DA.METHOD,\n",
    "    original_random=cfg.DA.ORIGINAL_RANDOM,\n",
    "    use_da_entropy=cfg.DA.USE_ENTROPY,\n",
    "    da_random_layer=cfg.DA.RANDOM_LAYER,\n",
    "    da_random_dim=cfg.DA.RANDOM_DIM,\n",
    "    decoder_in_dim=cfg.DECODER.IN_DIM,\n",
    ")"
   ]
  },
  {
   "cell_type": "markdown",
   "id": "a48c86b9",
   "metadata": {},
   "source": [
    "We want to save the best model during training so we can reuse it later without needing to retrain. PyTorch Lightning’s `ModelCheckpoint` does this by automatically saving the model whenever it achieves a new best validation AUROC score."
   ]
  },
  {
   "cell_type": "code",
   "execution_count": 20,
   "id": "7754bd38",
   "metadata": {},
   "outputs": [],
   "source": [
    "import pytorch_lightning as pl\n",
    "from pytorch_lightning.callbacks import ModelCheckpoint\n",
    "\n",
    "checkpoint_cb = ModelCheckpoint(\n",
    "    filename=\"{epoch}-{step}-{valid_BinaryAUROC:.4f}\",\n",
    "    monitor=\"valid_BinaryAUROC\",\n",
    "    mode=\"max\",\n",
    ")"
   ]
  },
  {
   "cell_type": "markdown",
   "id": "969beac0",
   "metadata": {},
   "source": [
    "We now create the `Trainer`."
   ]
  },
  {
   "cell_type": "code",
   "execution_count": 21,
   "id": "e68e07bc",
   "metadata": {
    "tags": [
     "hide-output"
    ]
   },
   "outputs": [
    {
     "name": "stderr",
     "output_type": "stream",
     "text": [
      "GPU available: True (cuda), used: True\n",
      "TPU available: False, using: 0 TPU cores\n",
      "HPU available: False, using: 0 HPUs\n"
     ]
    }
   ],
   "source": [
    "import torch\n",
    "\n",
    "trainer = pl.Trainer(\n",
    "    callbacks=[checkpoint_cb],\n",
    "    devices=\"auto\",\n",
    "    accelerator=\"auto\",\n",
    "    max_epochs=cfg.SOLVER.MAX_EPOCH,\n",
    "    deterministic=True,\n",
    ")"
   ]
  },
  {
   "cell_type": "markdown",
   "id": "1f9a4714",
   "metadata": {},
   "source": [
    "## Step 3: Model Training"
   ]
  },
  {
   "cell_type": "markdown",
   "id": "b72634ee",
   "metadata": {},
   "source": [
    "### Train\n",
    "\n",
    "After setting up the model and data loaders, we now start training the full DrugBAN model using the PyTorch Lightning Trainer via calling `trainer.fit()`.\n",
    "\n",
    "#### What Happens Here?\n",
    "- The model receives batches of drug-protein pairs from the training data loader.\n",
    "\n",
    "- During each step, the GCN, CNN, BAN layer, and MLP classifier are updated to improve interaction prediction.\n",
    "\n",
    "- Validation is automatically run at the end of each epoch to track performance and save the best model based on AUROC.\n",
    "\n",
    "\n",
    "This code block takes approximately 5 minutes to complete."
   ]
  },
  {
   "cell_type": "code",
   "execution_count": 22,
   "id": "0624b0c6",
   "metadata": {},
   "outputs": [
    {
     "name": "stderr",
     "output_type": "stream",
     "text": [
      "You are using a CUDA device ('NVIDIA GeForce RTX 4090') that has Tensor Cores. To properly utilize them, you should set `torch.set_float32_matmul_precision('medium' | 'high')` which will trade-off precision for performance. For more details, read https://pytorch.org/docs/stable/generated/torch.set_float32_matmul_precision.html#torch.set_float32_matmul_precision\n"
     ]
    },
    {
     "name": "stderr",
     "output_type": "stream",
     "text": [
      "LOCAL_RANK: 0 - CUDA_VISIBLE_DEVICES: [0]\n",
      "\n",
      "  | Name                 | Type                | Params | Mode \n",
      "---------------------------------------------------------------------\n",
      "0 | model                | DrugBAN             | 747 K  | train\n",
      "1 | domain_discriminator | DomainNetSmallImage | 133 K  | train\n",
      "2 | random_layer         | RandomLayer         | 66.0 K | train\n",
      "3 | valid_metrics        | MetricCollection    | 0      | train\n",
      "4 | test_metrics         | MetricCollection    | 0      | train\n",
      "---------------------------------------------------------------------\n",
      "946 K     Trainable params\n",
      "0         Non-trainable params\n",
      "946 K     Total params\n",
      "3.787     Total estimated model params size (MB)\n",
      "67        Modules in train mode\n",
      "0         Modules in eval mode\n"
     ]
    },
    {
     "name": "stdout",
     "output_type": "stream",
     "text": [
      "Epoch 4: 100%|██████████| 305/305 [00:19<00:00, 15.61it/s, v_num=1]        "
     ]
    },
    {
     "name": "stderr",
     "output_type": "stream",
     "text": [
      "`Trainer.fit` stopped: `max_epochs=5` reached.\n"
     ]
    },
    {
     "name": "stdout",
     "output_type": "stream",
     "text": [
      "Epoch 4: 100%|██████████| 305/305 [00:19<00:00, 15.61it/s, v_num=1]\n"
     ]
    }
   ],
   "source": [
    "trainer.fit(\n",
    "    drugban_trainer,\n",
    "    train_dataloaders=training_generator,\n",
    "    val_dataloaders=valid_generator,\n",
    ")"
   ]
  },
  {
   "cell_type": "markdown",
   "id": "23b3975c",
   "metadata": {},
   "source": [
    "## Step 4: Evaluation\n",
    "\n",
    "Once training is complete, we evaluate the model on the test set using `trainer.test()`.\n",
    "\n",
    "### What is included in this step?\n",
    "- The best model checkpoint (based on validation AUROC) is automatically loaded.\n",
    "\n",
    "- The model runs on the test data to generate predictions.\n",
    "\n",
    "- Final classification metrics, including AUROC, F1 score, accuracy, sensitivity, and specificity, are calculated and logged."
   ]
  },
  {
   "cell_type": "code",
   "execution_count": 23,
   "id": "c1415c02",
   "metadata": {},
   "outputs": [
    {
     "name": "stderr",
     "output_type": "stream",
     "text": [
      "Restoring states from the checkpoint path at /home/zarizky/projects/mmai-tutorials/tutorials/drug-target-interaction/lightning_logs/version_1/checkpoints/epoch=0-step=610-valid_BinaryAUROC=0.5565.ckpt\n",
      "LOCAL_RANK: 0 - CUDA_VISIBLE_DEVICES: [0]\n",
      "Loaded model weights from the checkpoint at /home/zarizky/projects/mmai-tutorials/tutorials/drug-target-interaction/lightning_logs/version_1/checkpoints/epoch=0-step=610-valid_BinaryAUROC=0.5565.ckpt\n"
     ]
    },
    {
     "name": "stdout",
     "output_type": "stream",
     "text": [
      "Testing DataLoader 0: 100%|██████████| 29/29 [00:00<00:00, 33.86it/s]\n"
     ]
    },
    {
     "data": {
      "text/html": [
       "<pre style=\"white-space:pre;overflow-x:auto;line-height:normal;font-family:Menlo,'DejaVu Sans Mono',consolas,'Courier New',monospace\">┏━━━━━━━━━━━━━━━━━━━━━━━━━━━┳━━━━━━━━━━━━━━━━━━━━━━━━━━━┓\n",
       "┃<span style=\"font-weight: bold\">        Test metric        </span>┃<span style=\"font-weight: bold\">       DataLoader 0        </span>┃\n",
       "┡━━━━━━━━━━━━━━━━━━━━━━━━━━━╇━━━━━━━━━━━━━━━━━━━━━━━━━━━┩\n",
       "│<span style=\"color: #008080; text-decoration-color: #008080\">     test_BinaryAUROC      </span>│<span style=\"color: #800080; text-decoration-color: #800080\">     0.556501030921936     </span>│\n",
       "│<span style=\"color: #008080; text-decoration-color: #008080\">    test_BinaryAccuracy    </span>│<span style=\"color: #800080; text-decoration-color: #800080\">    0.5380374789237976     </span>│\n",
       "│<span style=\"color: #008080; text-decoration-color: #008080\">    test_BinaryF1Score     </span>│<span style=\"color: #800080; text-decoration-color: #800080\">    0.44355911016464233    </span>│\n",
       "│<span style=\"color: #008080; text-decoration-color: #008080\">     test_BinaryRecall     </span>│<span style=\"color: #800080; text-decoration-color: #800080\">    0.3670329749584198     </span>│\n",
       "│<span style=\"color: #008080; text-decoration-color: #008080\">  test_BinarySpecificity   </span>│<span style=\"color: #800080; text-decoration-color: #800080\">    0.7101770043373108     </span>│\n",
       "│<span style=\"color: #008080; text-decoration-color: #008080\">   test_accuracy_sklearn   </span>│<span style=\"color: #800080; text-decoration-color: #800080\">    0.5049614310264587     </span>│\n",
       "│<span style=\"color: #008080; text-decoration-color: #008080\">    test_auroc_sklearn     </span>│<span style=\"color: #800080; text-decoration-color: #800080\">     0.556501030921936     </span>│\n",
       "│<span style=\"color: #008080; text-decoration-color: #008080\">      test_f1_sklearn      </span>│<span style=\"color: #800080; text-decoration-color: #800080\">    0.6676556468009949     </span>│\n",
       "│<span style=\"color: #008080; text-decoration-color: #008080\">         test_loss         </span>│<span style=\"color: #800080; text-decoration-color: #800080\">    0.7176582217216492     </span>│\n",
       "│<span style=\"color: #008080; text-decoration-color: #008080\">   test_optim_threshold    </span>│<span style=\"color: #800080; text-decoration-color: #800080\">    0.25262197852134705    </span>│\n",
       "│<span style=\"color: #008080; text-decoration-color: #008080\">     test_sensitivity      </span>│<span style=\"color: #800080; text-decoration-color: #800080\">   0.008849557489156723    </span>│\n",
       "│<span style=\"color: #008080; text-decoration-color: #008080\">     test_specificity      </span>│<span style=\"color: #800080; text-decoration-color: #800080\">     0.997802197933197     </span>│\n",
       "└───────────────────────────┴───────────────────────────┘\n",
       "</pre>\n"
      ],
      "text/plain": [
       "┏━━━━━━━━━━━━━━━━━━━━━━━━━━━┳━━━━━━━━━━━━━━━━━━━━━━━━━━━┓\n",
       "┃\u001b[1m \u001b[0m\u001b[1m       Test metric       \u001b[0m\u001b[1m \u001b[0m┃\u001b[1m \u001b[0m\u001b[1m      DataLoader 0       \u001b[0m\u001b[1m \u001b[0m┃\n",
       "┡━━━━━━━━━━━━━━━━━━━━━━━━━━━╇━━━━━━━━━━━━━━━━━━━━━━━━━━━┩\n",
       "│\u001b[36m \u001b[0m\u001b[36m    test_BinaryAUROC     \u001b[0m\u001b[36m \u001b[0m│\u001b[35m \u001b[0m\u001b[35m    0.556501030921936    \u001b[0m\u001b[35m \u001b[0m│\n",
       "│\u001b[36m \u001b[0m\u001b[36m   test_BinaryAccuracy   \u001b[0m\u001b[36m \u001b[0m│\u001b[35m \u001b[0m\u001b[35m   0.5380374789237976    \u001b[0m\u001b[35m \u001b[0m│\n",
       "│\u001b[36m \u001b[0m\u001b[36m   test_BinaryF1Score    \u001b[0m\u001b[36m \u001b[0m│\u001b[35m \u001b[0m\u001b[35m   0.44355911016464233   \u001b[0m\u001b[35m \u001b[0m│\n",
       "│\u001b[36m \u001b[0m\u001b[36m    test_BinaryRecall    \u001b[0m\u001b[36m \u001b[0m│\u001b[35m \u001b[0m\u001b[35m   0.3670329749584198    \u001b[0m\u001b[35m \u001b[0m│\n",
       "│\u001b[36m \u001b[0m\u001b[36m test_BinarySpecificity  \u001b[0m\u001b[36m \u001b[0m│\u001b[35m \u001b[0m\u001b[35m   0.7101770043373108    \u001b[0m\u001b[35m \u001b[0m│\n",
       "│\u001b[36m \u001b[0m\u001b[36m  test_accuracy_sklearn  \u001b[0m\u001b[36m \u001b[0m│\u001b[35m \u001b[0m\u001b[35m   0.5049614310264587    \u001b[0m\u001b[35m \u001b[0m│\n",
       "│\u001b[36m \u001b[0m\u001b[36m   test_auroc_sklearn    \u001b[0m\u001b[36m \u001b[0m│\u001b[35m \u001b[0m\u001b[35m    0.556501030921936    \u001b[0m\u001b[35m \u001b[0m│\n",
       "│\u001b[36m \u001b[0m\u001b[36m     test_f1_sklearn     \u001b[0m\u001b[36m \u001b[0m│\u001b[35m \u001b[0m\u001b[35m   0.6676556468009949    \u001b[0m\u001b[35m \u001b[0m│\n",
       "│\u001b[36m \u001b[0m\u001b[36m        test_loss        \u001b[0m\u001b[36m \u001b[0m│\u001b[35m \u001b[0m\u001b[35m   0.7176582217216492    \u001b[0m\u001b[35m \u001b[0m│\n",
       "│\u001b[36m \u001b[0m\u001b[36m  test_optim_threshold   \u001b[0m\u001b[36m \u001b[0m│\u001b[35m \u001b[0m\u001b[35m   0.25262197852134705   \u001b[0m\u001b[35m \u001b[0m│\n",
       "│\u001b[36m \u001b[0m\u001b[36m    test_sensitivity     \u001b[0m\u001b[36m \u001b[0m│\u001b[35m \u001b[0m\u001b[35m  0.008849557489156723   \u001b[0m\u001b[35m \u001b[0m│\n",
       "│\u001b[36m \u001b[0m\u001b[36m    test_specificity     \u001b[0m\u001b[36m \u001b[0m│\u001b[35m \u001b[0m\u001b[35m    0.997802197933197    \u001b[0m\u001b[35m \u001b[0m│\n",
       "└───────────────────────────┴───────────────────────────┘\n"
      ]
     },
     "metadata": {},
     "output_type": "display_data"
    },
    {
     "data": {
      "text/plain": [
       "[{'test_loss': 0.7176582217216492,\n",
       "  'test_sensitivity': 0.008849557489156723,\n",
       "  'test_specificity': 0.997802197933197,\n",
       "  'test_auroc_sklearn': 0.556501030921936,\n",
       "  'test_accuracy_sklearn': 0.5049614310264587,\n",
       "  'test_f1_sklearn': 0.6676556468009949,\n",
       "  'test_optim_threshold': 0.25262197852134705,\n",
       "  'test_BinaryAUROC': 0.556501030921936,\n",
       "  'test_BinaryF1Score': 0.44355911016464233,\n",
       "  'test_BinaryRecall': 0.3670329749584198,\n",
       "  'test_BinarySpecificity': 0.7101770043373108,\n",
       "  'test_BinaryAccuracy': 0.5380374789237976}]"
      ]
     },
     "execution_count": 23,
     "metadata": {},
     "output_type": "execute_result"
    }
   ],
   "source": [
    "trainer.test(drugban_trainer, dataloaders=test_generator, ckpt_path=\"best\")"
   ]
  },
  {
   "cell_type": "markdown",
   "id": "bb0a08bec91d2bd9",
   "metadata": {},
   "source": [
    "### Performance Comparison\n",
    "\n",
    "The earlier example was a simple demonstration. To properly evaluate DrugBAN against baseline models, we train it for 100 epochs across multiple random seeds.\n",
    "\n",
    "We provide a checkpoint trained for 100 epochs in the `checkpoint` for your test after the tutorial. We will also use the provided checkpoint for the interpretation section for a better visualization.\n"
   ]
  },
  {
   "cell_type": "markdown",
   "id": "37dbe9f3",
   "metadata": {},
   "source": [
    "The figure below shows the performance of different models on the BioSNAP and BindingDB datasets:\n",
    "- Left plot: AUROC (Area Under the ROC Curve)\n",
    "- Right plot: AUPRC (Area Under the Precision–Recall Curve)\n",
    "\n",
    "![](https://media.springernature.com/full/springer-static/image/art%3A10.1038%2Fs42256-022-00605-1/MediaObjects/42256_2022_605_Fig3_HTML.png?as=webp)\n",
    "\n",
    "The box plots show the median as the centre lines and the mean as green triangles. The minima and lower percentile represent the worst and second-worst scores. The maxima and upper percentile indicate the best and second-best scores. Supplementary Table 2 provides the data statistics of the BindingDB and BioSNAP datasets."
   ]
  },
  {
   "cell_type": "markdown",
   "id": "02e3c73e",
   "metadata": {},
   "source": [
    "## Step 5: Interpretation\n",
    "\n",
    "We interpret the trained models by analyzing the learned attention weights. In this step, we will use PyKale's API to\n",
    "1) draw the attention maps of the Bilinear Attention Network (BAN) layer, and\n",
    "2) generate molecule images with attention highlights.\n",
    "\n",
    "This helps us understand which parts of the drug contribute to the interaction with the target protein."
   ]
  },
  {
   "cell_type": "markdown",
   "id": "4a56f260141b7368",
   "metadata": {},
   "source": [
    "### Extracting Attention Weights\n",
    "First, we need to load the test dataset and create a DataLoader for it. This will allow us to process the test samples in batches. We define functions to create the test dataset and DataLoader."
   ]
  },
  {
   "cell_type": "code",
   "execution_count": 24,
   "id": "2c67553408592b2",
   "metadata": {},
   "outputs": [],
   "source": [
    "def get_test_dataset(dataFolder):\n",
    "    df_test_target = pd.read_csv(dataFolder)\n",
    "    test_target_dataset = DTIDataset(df_test_target.index.values, df_test_target)\n",
    "    return test_target_dataset\n",
    "\n",
    "\n",
    "def get_test_dataloader(dataset, batchsize, num_workers, collate_fn):\n",
    "    test_dataloader = DataLoader(\n",
    "        dataset,\n",
    "        batch_size=batchsize,\n",
    "        num_workers=num_workers,\n",
    "        collate_fn=collate_fn,\n",
    "        shuffle=False,\n",
    "        drop_last=True,\n",
    "    )\n",
    "    return test_dataloader"
   ]
  },
  {
   "cell_type": "markdown",
   "id": "ecdab66ee05da10c",
   "metadata": {},
   "source": [
    "We load a small subset of samples for testing from the provided `.csv` file. You can create your own `.csv` file with the same format to test your drug–protein pairs."
   ]
  },
  {
   "cell_type": "code",
   "execution_count": 25,
   "id": "7ef1867541d2577a",
   "metadata": {},
   "outputs": [],
   "source": [
    "test_dataFolder = \"data/drug-target-interaction/bindingdb/interpretation_samples.csv\""
   ]
  },
  {
   "cell_type": "markdown",
   "id": "7fec5dc00a7b4aa4",
   "metadata": {},
   "source": [
    "We then build the test dataset and DataLoader using the functions defined above. The `batchsize` is set to 1 to ensure we process one sample at a time for attention visualization later."
   ]
  },
  {
   "cell_type": "code",
   "execution_count": 26,
   "id": "c99a558c96a1ffd",
   "metadata": {},
   "outputs": [],
   "source": [
    "test_dataset = get_test_dataset(test_dataFolder)\n",
    "test_dataloader = get_test_dataloader(\n",
    "    test_dataset,\n",
    "    batchsize=1,\n",
    "    num_workers=cfg.SOLVER.NUM_WORKERS,\n",
    "    collate_fn=graph_collate_func,\n",
    ")"
   ]
  },
  {
   "cell_type": "markdown",
   "id": "e1ff543d132abc42",
   "metadata": {},
   "source": [
    "Then, we use the following function to load the trained model with the PyKale API."
   ]
  },
  {
   "cell_type": "code",
   "execution_count": 27,
   "id": "3b7f12b12b139799",
   "metadata": {},
   "outputs": [],
   "source": [
    "def get_model_from_ckpt(ckpt_path, config):\n",
    "    return DrugbanTrainer.load_from_checkpoint(\n",
    "        checkpoint_path=ckpt_path,\n",
    "        model=DrugBAN(config),\n",
    "        solver_lr=cfg.SOLVER.LEARNING_RATE,\n",
    "        num_classes=cfg.DECODER.BINARY,\n",
    "        batch_size=cfg.SOLVER.BATCH_SIZE,\n",
    "        is_da=cfg.DA.USE,\n",
    "        solver_da_lr=cfg.SOLVER.DA_LEARNING_RATE,\n",
    "        da_init_epoch=cfg.DA.INIT_EPOCH,\n",
    "        da_method=cfg.DA.METHOD,\n",
    "        original_random=cfg.DA.ORIGINAL_RANDOM,\n",
    "        use_da_entropy=cfg.DA.USE_ENTROPY,\n",
    "        da_random_layer=cfg.DA.RANDOM_LAYER,\n",
    "        da_random_dim=cfg.DA.RANDOM_DIM,\n",
    "        decoder_in_dim=cfg.DECODER.IN_DIM,\n",
    "    )"
   ]
  },
  {
   "cell_type": "markdown",
   "id": "c0678dddcdf076fc",
   "metadata": {},
   "source": [
    "Once the model and test data are prepared, we extract attention maps from the trained model. We set the directory to the provided checkpoint file, load the trained model, and set it to evaluation mode."
   ]
  },
  {
   "cell_type": "code",
   "execution_count": 28,
   "id": "d2a8931099b73c01",
   "metadata": {},
   "outputs": [
    {
     "data": {
      "text/plain": [
       "DrugbanTrainer(\n",
       "  (model): DrugBAN(\n",
       "    (molecular_extractor): MolecularGCN(\n",
       "      (init_transform): Linear(in_features=7, out_features=128, bias=False)\n",
       "      (gcn_layers): ModuleList(\n",
       "        (0-2): 3 x GCNConv(128, 128)\n",
       "      )\n",
       "    )\n",
       "    (protein_extractor): ProteinCNN(\n",
       "      (embedding): Embedding(26, 128, padding_idx=0)\n",
       "      (conv1): Conv1d(128, 128, kernel_size=(3,), stride=(1,))\n",
       "      (bn1): BatchNorm1d(128, eps=1e-05, momentum=0.1, affine=True, track_running_stats=True)\n",
       "      (conv2): Conv1d(128, 128, kernel_size=(6,), stride=(1,))\n",
       "      (bn2): BatchNorm1d(128, eps=1e-05, momentum=0.1, affine=True, track_running_stats=True)\n",
       "      (conv3): Conv1d(128, 128, kernel_size=(9,), stride=(1,))\n",
       "      (bn3): BatchNorm1d(128, eps=1e-05, momentum=0.1, affine=True, track_running_stats=True)\n",
       "    )\n",
       "    (bcn): ParametrizedBANLayer(\n",
       "      (v_net): FCNet(\n",
       "        (main): Sequential(\n",
       "          (0): Dropout(p=0.2, inplace=False)\n",
       "          (1): Linear(in_features=128, out_features=768, bias=True)\n",
       "          (2): ReLU()\n",
       "        )\n",
       "      )\n",
       "      (q_net): FCNet(\n",
       "        (main): Sequential(\n",
       "          (0): Dropout(p=0.2, inplace=False)\n",
       "          (1): Linear(in_features=128, out_features=768, bias=True)\n",
       "          (2): ReLU()\n",
       "        )\n",
       "      )\n",
       "      (p_net): AvgPool1d(kernel_size=(3,), stride=(3,), padding=(0,))\n",
       "      (bn): BatchNorm1d(256, eps=1e-05, momentum=0.1, affine=True, track_running_stats=True)\n",
       "      (parametrizations): ModuleDict(\n",
       "        (h_mat): ParametrizationList(\n",
       "          (0): _WeightNorm()\n",
       "        )\n",
       "      )\n",
       "    )\n",
       "    (mlp_classifier): MLPDecoder(\n",
       "      (model): Sequential(\n",
       "        (0): Linear(in_features=256, out_features=512, bias=True)\n",
       "        (1): ReLU()\n",
       "        (2): Dropout(p=0.1, inplace=False)\n",
       "        (3): Linear(in_features=512, out_features=128, bias=True)\n",
       "        (4): ReLU()\n",
       "        (5): Linear(in_features=128, out_features=2, bias=True)\n",
       "      )\n",
       "    )\n",
       "  )\n",
       "  (domain_discriminator): DomainNetSmallImage(\n",
       "    (fc1): Linear(in_features=256, out_features=256, bias=True)\n",
       "    (bn1): BatchNorm1d(256, eps=1e-05, momentum=0.1, affine=True, track_running_stats=True)\n",
       "    (relu1): ReLU()\n",
       "    (fc2): Linear(in_features=256, out_features=256, bias=True)\n",
       "    (bn2): BatchNorm1d(256, eps=1e-05, momentum=0.1, affine=True, track_running_stats=True)\n",
       "    (relu2): ReLU()\n",
       "    (fc3): Linear(in_features=256, out_features=2, bias=True)\n",
       "  )\n",
       "  (random_layer): RandomLayer(\n",
       "    (random_matrix): ParameterList(\n",
       "        (0): Parameter containing: [torch.float32 of size 256x256 (cuda:0)]\n",
       "        (1): Parameter containing: [torch.float32 of size 2x256 (cuda:0)]\n",
       "    )\n",
       "  )\n",
       "  (valid_metrics): MetricCollection(\n",
       "    (BinaryAUROC): BinaryAUROC()\n",
       "    (BinaryF1Score): BinaryF1Score()\n",
       "    (BinaryRecall): BinaryRecall()\n",
       "    (BinarySpecificity): BinarySpecificity()\n",
       "    (BinaryAccuracy): BinaryAccuracy(),\n",
       "    prefix=valid_\n",
       "  )\n",
       "  (test_metrics): MetricCollection(\n",
       "    (BinaryAUROC): BinaryAUROC()\n",
       "    (BinaryF1Score): BinaryF1Score()\n",
       "    (BinaryRecall): BinaryRecall()\n",
       "    (BinarySpecificity): BinarySpecificity()\n",
       "    (BinaryAccuracy): BinaryAccuracy(),\n",
       "    prefix=test_\n",
       "  )\n",
       ")"
      ]
     },
     "execution_count": 28,
     "metadata": {},
     "output_type": "execute_result"
    }
   ],
   "source": [
    "checkpoint_path = \"checkpoint/best.ckpt\"\n",
    "model = get_model_from_ckpt(checkpoint_path, cfg)\n",
    "model.eval()"
   ]
  },
  {
   "cell_type": "markdown",
   "id": "159d3fa67b29c9e9",
   "metadata": {},
   "source": [
    "We then iterate through the test DataLoader, passing each batch of drug and protein pairs to the model. The model's forward method returns the attention weights. After processing all batches, we concatenate the attention tensors into a single tensor."
   ]
  },
  {
   "cell_type": "code",
   "execution_count": 29,
   "id": "781a7762c36c72be",
   "metadata": {},
   "outputs": [
    {
     "name": "stderr",
     "output_type": "stream",
     "text": [
      "100%|██████████| 6/6 [00:00<00:00, 106.43it/s]\n"
     ]
    },
    {
     "data": {
      "text/plain": [
       "torch.Size([6, 2, 290, 1185])"
      ]
     },
     "execution_count": 29,
     "metadata": {},
     "output_type": "execute_result"
    }
   ],
   "source": [
    "from tqdm import tqdm\n",
    "\n",
    "all_attentions = []\n",
    "for batch in tqdm(test_dataloader):\n",
    "    drug, protein, _ = batch\n",
    "    drug, protein = drug.to(model.device), protein.to(model.device)\n",
    "\n",
    "    _, _, _, _, attention = model.model.forward(\n",
    "        drug, protein, mode=\"eval\"\n",
    "    )  # [B, H, V, Q]\n",
    "\n",
    "    attention = attention.detach().cpu()\n",
    "    all_attentions.append(attention)\n",
    "\n",
    "# Concatenate into one tensor: [N, H, V, Q]\n",
    "all_attentions = torch.cat(all_attentions, dim=0)\n",
    "torch.save(all_attentions, \"attention_maps.pt\")\n",
    "\n",
    "all_attentions.shape"
   ]
  },
  {
   "cell_type": "markdown",
   "id": "78dc763b6c0eef0",
   "metadata": {},
   "source": [
    "The attention has shape [B, H, V, Q] (Number of drug-target pairs, Heads of attentions, Drug tokens, Protein tokens)."
   ]
  },
  {
   "cell_type": "markdown",
   "id": "8f72ea4d93f640cb",
   "metadata": {},
   "source": [
    "### Visualize Attention Maps and Molecule Images"
   ]
  },
  {
   "cell_type": "markdown",
   "id": "383c342a7c31d7ae",
   "metadata": {},
   "source": [
    "Once attention maps are saved, run the visualization script:"
   ]
  },
  {
   "cell_type": "markdown",
   "id": "d8a746169def8da5",
   "metadata": {},
   "source": [
    "This script will:\n",
    "\n",
    "1) Load the attention weights and the corresponding SMILES + protein data.\n",
    "\n",
    "2) Plot:\n",
    "\n",
    "    a) A heatmap of attention over drug–protein tokens.\n",
    "\n",
    "    b) Molecular structures with atoms highlighted by attention values.\n",
    "\n",
    "The output images are saved in the `visualization` directory. You can also modify the `data_file` to use your own input in the same format as `target_test.csv`.\n",
    "\n"
   ]
  },
  {
   "cell_type": "markdown",
   "id": "aac54bfc67ce32eb",
   "metadata": {},
   "source": [
    "We first import the necessary PyKale APIs and set the output directory."
   ]
  },
  {
   "cell_type": "code",
   "execution_count": 30,
   "id": "d3c1d2e4cab69107",
   "metadata": {},
   "outputs": [],
   "source": [
    "from kale.interpret.visualize import draw_attention_map, draw_mol_with_attention\n",
    "from kale.prepdata.tensor_reshape import normalize_tensor\n",
    "\n",
    "out_dir = \"./visualization\"\n",
    "os.makedirs(out_dir, exist_ok=True)"
   ]
  },
  {
   "cell_type": "markdown",
   "id": "126b62034111d92a",
   "metadata": {},
   "source": [
    "We then load the attention maps, data, and SMILES strings from the test dataset."
   ]
  },
  {
   "cell_type": "code",
   "execution_count": 31,
   "id": "7f70a6810c1c5e60",
   "metadata": {},
   "outputs": [],
   "source": [
    "attention = torch.load(\"attention_maps.pt\", map_location=\"cpu\")\n",
    "data_df = pd.read_csv(test_dataFolder)\n",
    "smiles = data_df[\"SMILES\"]\n",
    "proteins = data_df[\"Protein\"]"
   ]
  },
  {
   "cell_type": "markdown",
   "id": "d1a009bbb9f4a0f9",
   "metadata": {},
   "source": [
    "We select the first sample from the attention maps and corresponding SMILES and protein sequence for visualization."
   ]
  },
  {
   "cell_type": "code",
   "execution_count": 32,
   "id": "e808c255fe862925",
   "metadata": {},
   "outputs": [],
   "source": [
    "index = 0\n",
    "att_path = os.path.join(out_dir, f\"att_map_{index}.png\")\n",
    "mol_path = os.path.join(out_dir, f\"mol_{index}.svg\")"
   ]
  },
  {
   "cell_type": "markdown",
   "id": "438e6aa218e6b51d",
   "metadata": {},
   "source": [
    "We crop the attention map to the actual lengths of the drug and protein sequences. This is important because the attention map may include padding tokens."
   ]
  },
  {
   "cell_type": "code",
   "execution_count": 33,
   "id": "af15baa1c8caabc0",
   "metadata": {},
   "outputs": [],
   "source": [
    "from rdkit import Chem\n",
    "\n",
    "\n",
    "def get_real_length(smile, protein_sequence):\n",
    "    \"\"\"Get the real length of the drug and protein sequences.\"\"\"\n",
    "    mol = Chem.MolFromSmiles(smile)\n",
    "    return mol.GetNumAtoms(), len(protein_sequence)\n",
    "\n",
    "\n",
    "att = attention[index]  # [H, V, Q]\n",
    "smile = smiles[index]\n",
    "protein = proteins[index]\n",
    "real_drug_len, real_prot_len = get_real_length(smile, protein)\n",
    "att = att[:, :real_drug_len, :real_prot_len].mean(0)  # [V, Q]\n",
    "\n",
    "# Normalize\n",
    "att = normalize_tensor(att)"
   ]
  },
  {
   "cell_type": "markdown",
   "id": "60a4ce71146a721e",
   "metadata": {},
   "source": [
    "Finally, we save the attention map and the molecule image with attention highlights."
   ]
  },
  {
   "cell_type": "code",
   "execution_count": 34,
   "id": "403f77ada0ecc446",
   "metadata": {},
   "outputs": [],
   "source": [
    "draw_attention_map(\n",
    "    att,\n",
    "    att_path,\n",
    "    title=f\"Drug {index} Attention\",\n",
    "    xlabel=\"Drug Tokens\",\n",
    "    ylabel=\"Protein Tokens\",\n",
    ")"
   ]
  },
  {
   "cell_type": "code",
   "execution_count": 35,
   "id": "b1003372361a66d6",
   "metadata": {},
   "outputs": [],
   "source": [
    "draw_mol_with_attention(att.mean(dim=1), smile, mol_path)"
   ]
  },
  {
   "cell_type": "code",
   "execution_count": 36,
   "id": "4mHWCbJmGMgG",
   "metadata": {
    "tags": [
     "hide-input"
    ]
   },
   "outputs": [
    {
     "data": {
      "image/png": "[encoded data removed]",
      "text/plain": [
       "<IPython.core.display.Image object>"
      ]
     },
     "metadata": {},
     "output_type": "display_data"
    },
    {
     "data": {
      "image/svg+xml": [
       "<svg xmlns=\"http://www.w3.org/2000/svg\" xmlns:rdkit=\"http://www.rdkit.org/xml\" xmlns:xlink=\"http://www.w3.org/1999/xlink\" version=\"1.1\" baseProfile=\"full\" xml:space=\"preserve\" width=\"400px\" height=\"300px\" viewBox=\"0 0 400 300\">\n",
       "<!-- END OF HEADER -->\n",
       "<rect style=\"opacity:1.0;fill:#FFFFFF;stroke:none\" width=\"400.0\" height=\"300.0\" x=\"0.0\" y=\"0.0\"> </rect>\n",
       "<path class=\"bond-0 atom-0 atom-1\" d=\"M 97.5,30.0 L 107.6,71.4 L 98.1,68.6 L 89.2,32.0 Z\" style=\"fill:#38578C;fill-rule:evenodd;fill-opacity:1;stroke:#38578C;stroke-width:0.0px;stroke-linecap:butt;stroke-linejoin:miter;stroke-miterlimit:10;stroke-opacity:1;\"/>\n",
       "<path class=\"bond-1 atom-1 atom-2\" d=\"M 98.1,68.6 L 107.6,71.4 L 78.5,99.1 L 69.0,96.3 Z\" style=\"fill:#440154;fill-rule:evenodd;fill-opacity:1;stroke:#440154;stroke-width:0.0px;stroke-linecap:butt;stroke-linejoin:miter;stroke-miterlimit:10;stroke-opacity:1;\"/>\n",
       "<path class=\"bond-2 atom-2 atom-3\" d=\"M 69.0,96.3 L 78.5,99.1 L 86.9,133.6 L 83.3,136.7 L 78.6,135.6 Z\" style=\"fill:#37588C;fill-rule:evenodd;fill-opacity:1;stroke:#37588C;stroke-width:0.0px;stroke-linecap:butt;stroke-linejoin:miter;stroke-miterlimit:10;stroke-opacity:1;\"/>\n",
       "<path class=\"bond-3 atom-3 atom-4\" d=\"M 78.6,135.6 L 83.3,136.7 L 84.5,141.8 L 62.5,167.7 L 52.0,166.9 Z\" style=\"fill:#90D643;fill-rule:evenodd;fill-opacity:1;stroke:#90D643;stroke-width:0.0px;stroke-linecap:butt;stroke-linejoin:miter;stroke-miterlimit:10;stroke-opacity:1;\"/>\n",
       "<path class=\"bond-30 atom-3 atom-12\" d=\"M 86.9,133.6 L 120.0,147.2 L 120.4,152.0 L 115.9,154.7 L 84.5,141.8 L 83.3,136.7 Z\" style=\"fill:#D7E219;fill-rule:evenodd;fill-opacity:1;stroke:#D7E219;stroke-width:0.0px;stroke-linecap:butt;stroke-linejoin:miter;stroke-miterlimit:10;stroke-opacity:1;\"/>\n",
       "<path class=\"bond-4 atom-4 atom-5\" d=\"M 52.0,166.9 L 62.5,167.7 L 80.3,196.5 L 78.3,201.4 L 73.7,202.1 Z\" style=\"fill:#F6E61F;fill-rule:evenodd;fill-opacity:1;stroke:#F6E61F;stroke-width:0.0px;stroke-linecap:butt;stroke-linejoin:miter;stroke-miterlimit:10;stroke-opacity:1;\"/>\n",
       "<path class=\"bond-5 atom-5 atom-6\" d=\"M 78.3,201.4 L 81.7,205.0 L 71.8,238.8 L 67.0,239.9 L 63.6,236.4 L 73.7,202.1 Z\" style=\"fill:#D7E219;fill-rule:evenodd;fill-opacity:1;stroke:#D7E219;stroke-width:0.0px;stroke-linecap:butt;stroke-linejoin:miter;stroke-miterlimit:10;stroke-opacity:1;\"/>\n",
       "<path class=\"bond-32 atom-5 atom-11\" d=\"M 113.3,188.5 L 117.3,192.0 L 115.9,196.7 L 81.7,205.0 L 78.3,201.4 L 80.3,196.5 Z\" style=\"fill:#FAE622;fill-rule:evenodd;fill-opacity:1;stroke:#FAE622;stroke-width:0.0px;stroke-linecap:butt;stroke-linejoin:miter;stroke-miterlimit:10;stroke-opacity:1;\"/>\n",
       "<path class=\"bond-6 atom-6 atom-7\" d=\"M 63.6,236.4 L 67.0,239.9 L 65.6,244.7 L 29.0,253.5 L 27.0,245.2 Z\" style=\"fill:#27AD80;fill-rule:evenodd;fill-opacity:1;stroke:#27AD80;stroke-width:0.0px;stroke-linecap:butt;stroke-linejoin:miter;stroke-miterlimit:10;stroke-opacity:1;\"/>\n",
       "<path class=\"bond-7 atom-6 atom-8\" d=\"M 71.8,238.8 L 96.1,264.2 L 93.3,273.7 L 65.6,244.7 L 67.0,239.9 Z\" style=\"fill:#27AD80;fill-rule:evenodd;fill-opacity:1;stroke:#27AD80;stroke-width:0.0px;stroke-linecap:butt;stroke-linejoin:miter;stroke-miterlimit:10;stroke-opacity:1;\"/>\n",
       "<path class=\"bond-8 atom-8 atom-9\" d=\"M 130.3,255.9 L 137.1,263.1 L 93.3,273.7 L 96.1,264.2 Z\" style=\"fill:#36B877;fill-rule:evenodd;fill-opacity:1;stroke:#36B877;stroke-width:0.0px;stroke-linecap:butt;stroke-linejoin:miter;stroke-miterlimit:10;stroke-opacity:1;\"/>\n",
       "<path class=\"bond-9 atom-9 atom-10\" d=\"M 149.8,219.8 L 137.1,263.1 L 130.3,255.9 L 140.2,222.2 Z\" style=\"fill:#57C665;fill-rule:evenodd;fill-opacity:1;stroke:#57C665;stroke-width:0.0px;stroke-linecap:butt;stroke-linejoin:miter;stroke-miterlimit:10;stroke-opacity:1;\"/>\n",
       "<path class=\"bond-10 atom-10 atom-11\" d=\"M 121.7,190.4 L 149.8,219.8 L 140.2,222.2 L 115.9,196.7 L 117.3,192.0 Z\" style=\"fill:#A2DA37;fill-rule:evenodd;fill-opacity:1;stroke:#A2DA37;stroke-width:0.0px;stroke-linecap:butt;stroke-linejoin:miter;stroke-miterlimit:10;stroke-opacity:1;\"/>\n",
       "<path class=\"bond-11 atom-11 atom-12\" d=\"M 120.4,152.0 L 124.5,154.5 L 121.7,190.4 L 117.3,192.0 L 113.3,188.5 L 115.9,154.7 Z\" style=\"fill:#FAE622;fill-rule:evenodd;fill-opacity:1;stroke:#FAE622;stroke-width:0.0px;stroke-linecap:butt;stroke-linejoin:miter;stroke-miterlimit:10;stroke-opacity:1;\"/>\n",
       "<path class=\"bond-12 atom-12 atom-13\" d=\"M 154.4,126.0 L 154.7,135.9 L 124.5,154.5 L 120.4,152.0 L 120.0,147.2 Z\" style=\"fill:#D7E219;fill-rule:evenodd;fill-opacity:1;stroke:#D7E219;stroke-width:0.0px;stroke-linecap:butt;stroke-linejoin:miter;stroke-miterlimit:10;stroke-opacity:1;\"/>\n",
       "<path class=\"bond-13 atom-13 atom-14\" d=\"M 154.4,126.0 L 189.7,145.0 L 189.8,150.0 L 185.6,152.6 L 154.7,135.9 Z\" style=\"fill:#ADDC30;fill-rule:evenodd;fill-opacity:1;stroke:#ADDC30;stroke-width:0.0px;stroke-linecap:butt;stroke-linejoin:miter;stroke-miterlimit:10;stroke-opacity:1;\"/>\n",
       "<path class=\"bond-14 atom-14 atom-15\" d=\"M 189.8,150.0 L 194.2,152.3 L 195.2,187.5 L 186.8,192.7 L 185.6,152.6 Z\" style=\"fill:#57C665;fill-rule:evenodd;fill-opacity:1;stroke:#57C665;stroke-width:0.0px;stroke-linecap:butt;stroke-linejoin:miter;stroke-miterlimit:10;stroke-opacity:1;\"/>\n",
       "<path class=\"bond-31 atom-14 atom-30\" d=\"M 223.8,124.0 L 224.1,133.9 L 194.2,152.3 L 189.8,150.0 L 189.7,145.0 Z\" style=\"fill:#67CC5C;fill-rule:evenodd;fill-opacity:1;stroke:#67CC5C;stroke-width:0.0px;stroke-linecap:butt;stroke-linejoin:miter;stroke-miterlimit:10;stroke-opacity:1;\"/>\n",
       "<path class=\"bond-15 atom-15 atom-16\" d=\"M 195.2,187.5 L 226.1,204.2 L 226.4,214.1 L 186.8,192.7 Z\" style=\"fill:#67CC5C;fill-rule:evenodd;fill-opacity:1;stroke:#67CC5C;stroke-width:0.0px;stroke-linecap:butt;stroke-linejoin:miter;stroke-miterlimit:10;stroke-opacity:1;\"/>\n",
       "<path class=\"bond-16 atom-16 atom-17\" d=\"M 256.1,185.7 L 260.4,188.1 L 260.6,193.0 L 226.4,214.1 L 226.1,204.2 Z\" style=\"fill:#81D34C;fill-rule:evenodd;fill-opacity:1;stroke:#81D34C;stroke-width:0.0px;stroke-linecap:butt;stroke-linejoin:miter;stroke-miterlimit:10;stroke-opacity:1;\"/>\n",
       "<path class=\"bond-17 atom-17 atom-18\" d=\"M 264.6,185.5 L 295.6,202.2 L 295.7,207.2 L 291.5,209.7 L 260.6,193.0 L 260.4,188.1 Z\" style=\"fill:#8DD644;fill-rule:evenodd;fill-opacity:1;stroke:#8DD644;stroke-width:0.0px;stroke-linecap:butt;stroke-linejoin:miter;stroke-miterlimit:10;stroke-opacity:1;\"/>\n",
       "<path class=\"bond-28 atom-17 atom-29\" d=\"M 263.5,145.4 L 264.6,185.5 L 260.4,188.1 L 256.1,185.7 L 255.1,150.6 Z\" style=\"fill:#8DD644;fill-rule:evenodd;fill-opacity:1;stroke:#8DD644;stroke-width:0.0px;stroke-linecap:butt;stroke-linejoin:miter;stroke-miterlimit:10;stroke-opacity:1;\"/>\n",
       "<path class=\"bond-18 atom-18 atom-19\" d=\"M 295.7,207.2 L 300.1,209.5 L 301.1,244.7 L 292.7,249.8 L 291.5,209.7 Z\" style=\"fill:#C5DF21;fill-rule:evenodd;fill-opacity:1;stroke:#C5DF21;stroke-width:0.0px;stroke-linecap:butt;stroke-linejoin:miter;stroke-miterlimit:10;stroke-opacity:1;\"/>\n",
       "<path class=\"bond-33 atom-18 atom-23\" d=\"M 325.5,183.8 L 329.9,186.1 L 330.0,191.0 L 300.1,209.5 L 295.7,207.2 L 295.6,202.2 Z\" style=\"fill:#FDE724;fill-rule:evenodd;fill-opacity:1;stroke:#FDE724;stroke-width:0.0px;stroke-linecap:butt;stroke-linejoin:miter;stroke-miterlimit:10;stroke-opacity:1;\"/>\n",
       "<path class=\"bond-19 atom-19 atom-20\" d=\"M 301.1,244.7 L 332.0,261.4 L 332.3,271.3 L 292.7,249.8 Z\" style=\"fill:#77D052;fill-rule:evenodd;fill-opacity:1;stroke:#77D052;stroke-width:0.0px;stroke-linecap:butt;stroke-linejoin:miter;stroke-miterlimit:10;stroke-opacity:1;\"/>\n",
       "<path class=\"bond-20 atom-20 atom-21\" d=\"M 362.0,242.9 L 370.7,247.6 L 332.3,271.3 L 332.0,261.4 Z\" style=\"fill:#47C06E;fill-rule:evenodd;fill-opacity:1;stroke:#47C06E;stroke-width:0.0px;stroke-linecap:butt;stroke-linejoin:miter;stroke-miterlimit:10;stroke-opacity:1;\"/>\n",
       "<path class=\"bond-21 atom-21 atom-22\" d=\"M 369.4,202.6 L 370.7,247.6 L 362.0,242.9 L 361.0,207.8 Z\" style=\"fill:#4BC26C;fill-rule:evenodd;fill-opacity:1;stroke:#4BC26C;stroke-width:0.0px;stroke-linecap:butt;stroke-linejoin:miter;stroke-miterlimit:10;stroke-opacity:1;\"/>\n",
       "<path class=\"bond-22 atom-22 atom-23\" d=\"M 334.1,183.5 L 369.4,202.6 L 361.0,207.8 L 330.0,191.0 L 329.9,186.1 Z\" style=\"fill:#8DD644;fill-rule:evenodd;fill-opacity:1;stroke:#8DD644;stroke-width:0.0px;stroke-linecap:butt;stroke-linejoin:miter;stroke-miterlimit:10;stroke-opacity:1;\"/>\n",
       "<path class=\"bond-23 atom-23 atom-24\" d=\"M 328.7,146.0 L 333.1,148.1 L 334.1,183.5 L 329.9,186.1 L 325.5,183.8 L 324.5,148.3 Z\" style=\"fill:#FDE724;fill-rule:evenodd;fill-opacity:1;stroke:#FDE724;stroke-width:0.0px;stroke-linecap:butt;stroke-linejoin:miter;stroke-miterlimit:10;stroke-opacity:1;\"/>\n",
       "<path class=\"bond-24 atom-24 atom-25\" d=\"M 300.6,121.6 L 328.6,140.7 L 328.7,146.0 L 324.5,148.3 L 290.6,125.1 Z\" style=\"fill:#F6E61F;fill-rule:evenodd;fill-opacity:1;stroke:#F6E61F;stroke-width:0.0px;stroke-linecap:butt;stroke-linejoin:miter;stroke-miterlimit:10;stroke-opacity:1;\"/>\n",
       "<path class=\"bond-34 atom-24 atom-28\" d=\"M 355.4,120.0 L 365.6,123.0 L 333.1,148.1 L 328.7,146.0 L 328.6,140.7 Z\" style=\"fill:#AFDC2E;fill-rule:evenodd;fill-opacity:1;stroke:#AFDC2E;stroke-width:0.0px;stroke-linecap:butt;stroke-linejoin:miter;stroke-miterlimit:10;stroke-opacity:1;\"/>\n",
       "<path class=\"bond-25 atom-25 atom-26\" d=\"M 303.7,80.7 L 310.2,89.1 L 300.6,121.6 L 290.6,125.1 Z\" style=\"fill:#AFDC2E;fill-rule:evenodd;fill-opacity:1;stroke:#AFDC2E;stroke-width:0.0px;stroke-linecap:butt;stroke-linejoin:miter;stroke-miterlimit:10;stroke-opacity:1;\"/>\n",
       "<path class=\"bond-26 atom-26 atom-27\" d=\"M 350.0,79.3 L 344.0,88.1 L 310.2,89.1 L 303.7,80.7 Z\" style=\"fill:#67CC5C;fill-rule:evenodd;fill-opacity:1;stroke:#67CC5C;stroke-width:0.0px;stroke-linecap:butt;stroke-linejoin:miter;stroke-miterlimit:10;stroke-opacity:1;\"/>\n",
       "<path class=\"bond-27 atom-27 atom-28\" d=\"M 350.0,79.3 L 365.6,123.0 L 355.4,120.0 L 344.0,88.1 Z\" style=\"fill:#67CC5C;fill-rule:evenodd;fill-opacity:1;stroke:#67CC5C;stroke-width:0.0px;stroke-linecap:butt;stroke-linejoin:miter;stroke-miterlimit:10;stroke-opacity:1;\"/>\n",
       "<path class=\"bond-29 atom-29 atom-30\" d=\"M 223.8,124.0 L 263.5,145.4 L 255.1,150.6 L 224.1,133.9 Z\" style=\"fill:#81D34C;fill-rule:evenodd;fill-opacity:1;stroke:#81D34C;stroke-width:0.0px;stroke-linecap:butt;stroke-linejoin:miter;stroke-miterlimit:10;stroke-opacity:1;\"/>\n",
       "<ellipse cx=\"93.4\" cy=\"31.0\" rx=\"8.0\" ry=\"8.0\" class=\"atom-0\" style=\"fill:#38578C;fill-rule:evenodd;stroke:#38578C;stroke-width:1.0px;stroke-linecap:butt;stroke-linejoin:miter;stroke-opacity:1\"/>\n",
       "<ellipse cx=\"102.8\" cy=\"70.0\" rx=\"8.0\" ry=\"8.0\" class=\"atom-1\" style=\"fill:#440154;fill-rule:evenodd;stroke:#440154;stroke-width:1.0px;stroke-linecap:butt;stroke-linejoin:miter;stroke-opacity:1\"/>\n",
       "<ellipse cx=\"73.8\" cy=\"97.7\" rx=\"8.0\" ry=\"8.0\" class=\"atom-2\" style=\"fill:#37588C;fill-rule:evenodd;stroke:#37588C;stroke-width:1.0px;stroke-linecap:butt;stroke-linejoin:miter;stroke-opacity:1\"/>\n",
       "<ellipse cx=\"83.3\" cy=\"136.7\" rx=\"8.0\" ry=\"8.0\" class=\"atom-3\" style=\"fill:#90D643;fill-rule:evenodd;stroke:#90D643;stroke-width:1.0px;stroke-linecap:butt;stroke-linejoin:miter;stroke-opacity:1\"/>\n",
       "<ellipse cx=\"57.3\" cy=\"167.3\" rx=\"8.0\" ry=\"8.0\" class=\"atom-4\" style=\"fill:#F6E61F;fill-rule:evenodd;stroke:#F6E61F;stroke-width:1.0px;stroke-linecap:butt;stroke-linejoin:miter;stroke-opacity:1\"/>\n",
       "<ellipse cx=\"78.3\" cy=\"201.4\" rx=\"8.0\" ry=\"8.0\" class=\"atom-5\" style=\"fill:#D7E219;fill-rule:evenodd;stroke:#D7E219;stroke-width:1.0px;stroke-linecap:butt;stroke-linejoin:miter;stroke-opacity:1\"/>\n",
       "<ellipse cx=\"67.0\" cy=\"239.9\" rx=\"8.0\" ry=\"8.0\" class=\"atom-6\" style=\"fill:#27AD80;fill-rule:evenodd;stroke:#27AD80;stroke-width:1.0px;stroke-linecap:butt;stroke-linejoin:miter;stroke-opacity:1\"/>\n",
       "<ellipse cx=\"28.0\" cy=\"249.4\" rx=\"8.0\" ry=\"8.0\" class=\"atom-7\" style=\"fill:#228A8D;fill-rule:evenodd;stroke:#228A8D;stroke-width:1.0px;stroke-linecap:butt;stroke-linejoin:miter;stroke-opacity:1\"/>\n",
       "<ellipse cx=\"94.7\" cy=\"269.0\" rx=\"8.0\" ry=\"8.0\" class=\"atom-8\" style=\"fill:#36B877;fill-rule:evenodd;stroke:#36B877;stroke-width:1.0px;stroke-linecap:butt;stroke-linejoin:miter;stroke-opacity:1\"/>\n",
       "<ellipse cx=\"133.7\" cy=\"259.5\" rx=\"8.0\" ry=\"8.0\" class=\"atom-9\" style=\"fill:#57C665;fill-rule:evenodd;stroke:#57C665;stroke-width:1.0px;stroke-linecap:butt;stroke-linejoin:miter;stroke-opacity:1\"/>\n",
       "<ellipse cx=\"145.0\" cy=\"221.0\" rx=\"8.0\" ry=\"8.0\" class=\"atom-10\" style=\"fill:#A2DA37;fill-rule:evenodd;stroke:#A2DA37;stroke-width:1.0px;stroke-linecap:butt;stroke-linejoin:miter;stroke-opacity:1\"/>\n",
       "<ellipse cx=\"117.3\" cy=\"192.0\" rx=\"8.0\" ry=\"8.0\" class=\"atom-11\" style=\"fill:#FAE622;fill-rule:evenodd;stroke:#FAE622;stroke-width:1.0px;stroke-linecap:butt;stroke-linejoin:miter;stroke-opacity:1\"/>\n",
       "<ellipse cx=\"120.4\" cy=\"152.0\" rx=\"8.0\" ry=\"8.0\" class=\"atom-12\" style=\"fill:#D7E219;fill-rule:evenodd;stroke:#D7E219;stroke-width:1.0px;stroke-linecap:butt;stroke-linejoin:miter;stroke-opacity:1\"/>\n",
       "<ellipse cx=\"154.5\" cy=\"130.9\" rx=\"8.0\" ry=\"8.0\" class=\"atom-13\" style=\"fill:#ADDC30;fill-rule:evenodd;stroke:#ADDC30;stroke-width:1.0px;stroke-linecap:butt;stroke-linejoin:miter;stroke-opacity:1\"/>\n",
       "<ellipse cx=\"189.8\" cy=\"150.0\" rx=\"8.0\" ry=\"8.0\" class=\"atom-14\" style=\"fill:#57C665;fill-rule:evenodd;stroke:#57C665;stroke-width:1.0px;stroke-linecap:butt;stroke-linejoin:miter;stroke-opacity:1\"/>\n",
       "<ellipse cx=\"191.0\" cy=\"190.1\" rx=\"8.0\" ry=\"8.0\" class=\"atom-15\" style=\"fill:#67CC5C;fill-rule:evenodd;stroke:#67CC5C;stroke-width:1.0px;stroke-linecap:butt;stroke-linejoin:miter;stroke-opacity:1\"/>\n",
       "<ellipse cx=\"226.3\" cy=\"209.1\" rx=\"8.0\" ry=\"8.0\" class=\"atom-16\" style=\"fill:#81D34C;fill-rule:evenodd;stroke:#81D34C;stroke-width:1.0px;stroke-linecap:butt;stroke-linejoin:miter;stroke-opacity:1\"/>\n",
       "<ellipse cx=\"260.4\" cy=\"188.1\" rx=\"8.0\" ry=\"8.0\" class=\"atom-17\" style=\"fill:#8DD644;fill-rule:evenodd;stroke:#8DD644;stroke-width:1.0px;stroke-linecap:butt;stroke-linejoin:miter;stroke-opacity:1\"/>\n",
       "<ellipse cx=\"295.7\" cy=\"207.2\" rx=\"8.0\" ry=\"8.0\" class=\"atom-18\" style=\"fill:#C5DF21;fill-rule:evenodd;stroke:#C5DF21;stroke-width:1.0px;stroke-linecap:butt;stroke-linejoin:miter;stroke-opacity:1\"/>\n",
       "<ellipse cx=\"296.9\" cy=\"247.3\" rx=\"8.0\" ry=\"8.0\" class=\"atom-19\" style=\"fill:#77D052;fill-rule:evenodd;stroke:#77D052;stroke-width:1.0px;stroke-linecap:butt;stroke-linejoin:miter;stroke-opacity:1\"/>\n",
       "<ellipse cx=\"332.2\" cy=\"266.3\" rx=\"8.0\" ry=\"8.0\" class=\"atom-20\" style=\"fill:#47C06E;fill-rule:evenodd;stroke:#47C06E;stroke-width:1.0px;stroke-linecap:butt;stroke-linejoin:miter;stroke-opacity:1\"/>\n",
       "<ellipse cx=\"366.3\" cy=\"245.3\" rx=\"8.0\" ry=\"8.0\" class=\"atom-21\" style=\"fill:#4BC26C;fill-rule:evenodd;stroke:#4BC26C;stroke-width:1.0px;stroke-linecap:butt;stroke-linejoin:miter;stroke-opacity:1\"/>\n",
       "<ellipse cx=\"365.2\" cy=\"205.2\" rx=\"8.0\" ry=\"8.0\" class=\"atom-22\" style=\"fill:#8DD644;fill-rule:evenodd;stroke:#8DD644;stroke-width:1.0px;stroke-linecap:butt;stroke-linejoin:miter;stroke-opacity:1\"/>\n",
       "<ellipse cx=\"329.9\" cy=\"186.1\" rx=\"8.0\" ry=\"8.0\" class=\"atom-23\" style=\"fill:#FDE724;fill-rule:evenodd;stroke:#FDE724;stroke-width:1.0px;stroke-linecap:butt;stroke-linejoin:miter;stroke-opacity:1\"/>\n",
       "<ellipse cx=\"328.7\" cy=\"146.0\" rx=\"8.0\" ry=\"8.0\" class=\"atom-24\" style=\"fill:#F6E61F;fill-rule:evenodd;stroke:#F6E61F;stroke-width:1.0px;stroke-linecap:butt;stroke-linejoin:miter;stroke-opacity:1\"/>\n",
       "<ellipse cx=\"295.6\" cy=\"123.4\" rx=\"8.0\" ry=\"8.0\" class=\"atom-25\" style=\"fill:#AFDC2E;fill-rule:evenodd;stroke:#AFDC2E;stroke-width:1.0px;stroke-linecap:butt;stroke-linejoin:miter;stroke-opacity:1\"/>\n",
       "<ellipse cx=\"306.9\" cy=\"84.9\" rx=\"8.0\" ry=\"8.0\" class=\"atom-26\" style=\"fill:#67CC5C;fill-rule:evenodd;stroke:#67CC5C;stroke-width:1.0px;stroke-linecap:butt;stroke-linejoin:miter;stroke-opacity:1\"/>\n",
       "<ellipse cx=\"347.0\" cy=\"83.7\" rx=\"8.0\" ry=\"8.0\" class=\"atom-27\" style=\"fill:#67CC5C;fill-rule:evenodd;stroke:#67CC5C;stroke-width:1.0px;stroke-linecap:butt;stroke-linejoin:miter;stroke-opacity:1\"/>\n",
       "<ellipse cx=\"366.1\" cy=\"121.5\" rx=\"13.9\" ry=\"8.0\" class=\"atom-28\" style=\"fill:#AFDC2E;fill-rule:evenodd;stroke:#AFDC2E;stroke-width:1.0px;stroke-linecap:butt;stroke-linejoin:miter;stroke-opacity:1\"/>\n",
       "<ellipse cx=\"259.3\" cy=\"148.0\" rx=\"8.0\" ry=\"8.0\" class=\"atom-29\" style=\"fill:#81D34C;fill-rule:evenodd;stroke:#81D34C;stroke-width:1.0px;stroke-linecap:butt;stroke-linejoin:miter;stroke-opacity:1\"/>\n",
       "<ellipse cx=\"224.0\" cy=\"128.9\" rx=\"8.0\" ry=\"8.0\" class=\"atom-30\" style=\"fill:#67CC5C;fill-rule:evenodd;stroke:#67CC5C;stroke-width:1.0px;stroke-linecap:butt;stroke-linejoin:miter;stroke-opacity:1\"/>\n",
       "<path class=\"bond-0 atom-0 atom-1\" d=\"M 93.4,31.0 L 102.8,70.0\" style=\"fill:none;fill-rule:evenodd;stroke:#000000;stroke-width:2.0px;stroke-linecap:butt;stroke-linejoin:miter;stroke-opacity:1\"/>\n",
       "<path class=\"bond-1 atom-1 atom-2\" d=\"M 102.8,70.0 L 73.8,97.7\" style=\"fill:none;fill-rule:evenodd;stroke:#000000;stroke-width:2.0px;stroke-linecap:butt;stroke-linejoin:miter;stroke-opacity:1\"/>\n",
       "<path class=\"bond-2 atom-2 atom-3\" d=\"M 73.8,97.7 L 83.3,136.7\" style=\"fill:none;fill-rule:evenodd;stroke:#000000;stroke-width:2.0px;stroke-linecap:butt;stroke-linejoin:miter;stroke-opacity:1\"/>\n",
       "<path class=\"bond-3 atom-3 atom-4\" d=\"M 83.3,136.7 L 62.9,160.6\" style=\"fill:none;fill-rule:evenodd;stroke:#000000;stroke-width:2.0px;stroke-linecap:butt;stroke-linejoin:miter;stroke-opacity:1\"/>\n",
       "<path class=\"bond-3 atom-3 atom-4\" d=\"M 85.0,143.9 L 67.5,164.5\" style=\"fill:none;fill-rule:evenodd;stroke:#000000;stroke-width:2.0px;stroke-linecap:butt;stroke-linejoin:miter;stroke-opacity:1\"/>\n",
       "<path class=\"bond-4 atom-4 atom-5\" d=\"M 61.6,174.3 L 78.3,201.4\" style=\"fill:none;fill-rule:evenodd;stroke:#000000;stroke-width:2.0px;stroke-linecap:butt;stroke-linejoin:miter;stroke-opacity:1\"/>\n",
       "<path class=\"bond-5 atom-5 atom-6\" d=\"M 78.3,201.4 L 67.0,239.9\" style=\"fill:none;fill-rule:evenodd;stroke:#000000;stroke-width:2.0px;stroke-linecap:butt;stroke-linejoin:miter;stroke-opacity:1\"/>\n",
       "<path class=\"bond-5 atom-5 atom-6\" d=\"M 83.1,206.5 L 73.8,238.3\" style=\"fill:none;fill-rule:evenodd;stroke:#000000;stroke-width:2.0px;stroke-linecap:butt;stroke-linejoin:miter;stroke-opacity:1\"/>\n",
       "<path class=\"bond-6 atom-6 atom-7\" d=\"M 67.0,239.9 L 28.0,249.4\" style=\"fill:none;fill-rule:evenodd;stroke:#000000;stroke-width:2.0px;stroke-linecap:butt;stroke-linejoin:miter;stroke-opacity:1\"/>\n",
       "<path class=\"bond-7 atom-6 atom-8\" d=\"M 67.0,239.9 L 94.7,269.0\" style=\"fill:none;fill-rule:evenodd;stroke:#000000;stroke-width:2.0px;stroke-linecap:butt;stroke-linejoin:miter;stroke-opacity:1\"/>\n",
       "<path class=\"bond-8 atom-8 atom-9\" d=\"M 94.7,269.0 L 133.7,259.5\" style=\"fill:none;fill-rule:evenodd;stroke:#000000;stroke-width:2.0px;stroke-linecap:butt;stroke-linejoin:miter;stroke-opacity:1\"/>\n",
       "<path class=\"bond-8 atom-8 atom-9\" d=\"M 96.7,262.3 L 128.9,254.5\" style=\"fill:none;fill-rule:evenodd;stroke:#000000;stroke-width:2.0px;stroke-linecap:butt;stroke-linejoin:miter;stroke-opacity:1\"/>\n",
       "<path class=\"bond-9 atom-9 atom-10\" d=\"M 133.7,259.5 L 142.9,228.0\" style=\"fill:none;fill-rule:evenodd;stroke:#000000;stroke-width:2.0px;stroke-linecap:butt;stroke-linejoin:miter;stroke-opacity:1\"/>\n",
       "<path class=\"bond-10 atom-10 atom-11\" d=\"M 139.4,215.1 L 117.3,192.0\" style=\"fill:none;fill-rule:evenodd;stroke:#000000;stroke-width:2.0px;stroke-linecap:butt;stroke-linejoin:miter;stroke-opacity:1\"/>\n",
       "<path class=\"bond-10 atom-10 atom-11\" d=\"M 135.0,219.3 L 115.3,198.6\" style=\"fill:none;fill-rule:evenodd;stroke:#000000;stroke-width:2.0px;stroke-linecap:butt;stroke-linejoin:miter;stroke-opacity:1\"/>\n",
       "<path class=\"bond-11 atom-11 atom-12\" d=\"M 117.3,192.0 L 119.8,159.0\" style=\"fill:none;fill-rule:evenodd;stroke:#000000;stroke-width:2.0px;stroke-linecap:butt;stroke-linejoin:miter;stroke-opacity:1\"/>\n",
       "<path class=\"bond-12 atom-12 atom-13\" d=\"M 126.0,148.5 L 154.5,130.9\" style=\"fill:none;fill-rule:evenodd;stroke:#000000;stroke-width:2.0px;stroke-linecap:butt;stroke-linejoin:miter;stroke-opacity:1\"/>\n",
       "<path class=\"bond-13 atom-13 atom-14\" d=\"M 154.5,130.9 L 189.8,150.0\" style=\"fill:none;fill-rule:evenodd;stroke:#000000;stroke-width:2.0px;stroke-linecap:butt;stroke-linejoin:miter;stroke-opacity:1\"/>\n",
       "<path class=\"bond-14 atom-14 atom-15\" d=\"M 189.8,150.0 L 191.0,190.1\" style=\"fill:none;fill-rule:evenodd;stroke:#000000;stroke-width:2.0px;stroke-linecap:butt;stroke-linejoin:miter;stroke-opacity:1\"/>\n",
       "<path class=\"bond-14 atom-14 atom-15\" d=\"M 195.9,153.3 L 196.9,186.4\" style=\"fill:none;fill-rule:evenodd;stroke:#000000;stroke-width:2.0px;stroke-linecap:butt;stroke-linejoin:miter;stroke-opacity:1\"/>\n",
       "<path class=\"bond-15 atom-15 atom-16\" d=\"M 191.0,190.1 L 226.3,209.1\" style=\"fill:none;fill-rule:evenodd;stroke:#000000;stroke-width:2.0px;stroke-linecap:butt;stroke-linejoin:miter;stroke-opacity:1\"/>\n",
       "<path class=\"bond-16 atom-16 atom-17\" d=\"M 226.3,209.1 L 260.4,188.1\" style=\"fill:none;fill-rule:evenodd;stroke:#000000;stroke-width:2.0px;stroke-linecap:butt;stroke-linejoin:miter;stroke-opacity:1\"/>\n",
       "<path class=\"bond-16 atom-16 atom-17\" d=\"M 226.1,202.2 L 254.3,184.8\" style=\"fill:none;fill-rule:evenodd;stroke:#000000;stroke-width:2.0px;stroke-linecap:butt;stroke-linejoin:miter;stroke-opacity:1\"/>\n",
       "<path class=\"bond-17 atom-17 atom-18\" d=\"M 260.4,188.1 L 295.7,207.2\" style=\"fill:none;fill-rule:evenodd;stroke:#000000;stroke-width:2.0px;stroke-linecap:butt;stroke-linejoin:miter;stroke-opacity:1\"/>\n",
       "<path class=\"bond-18 atom-18 atom-19\" d=\"M 295.7,207.2 L 296.9,247.3\" style=\"fill:none;fill-rule:evenodd;stroke:#000000;stroke-width:2.0px;stroke-linecap:butt;stroke-linejoin:miter;stroke-opacity:1\"/>\n",
       "<path class=\"bond-18 atom-18 atom-19\" d=\"M 301.8,210.5 L 302.8,243.6\" style=\"fill:none;fill-rule:evenodd;stroke:#000000;stroke-width:2.0px;stroke-linecap:butt;stroke-linejoin:miter;stroke-opacity:1\"/>\n",
       "<path class=\"bond-19 atom-19 atom-20\" d=\"M 296.9,247.3 L 332.2,266.3\" style=\"fill:none;fill-rule:evenodd;stroke:#000000;stroke-width:2.0px;stroke-linecap:butt;stroke-linejoin:miter;stroke-opacity:1\"/>\n",
       "<path class=\"bond-20 atom-20 atom-21\" d=\"M 332.2,266.3 L 360.7,248.7\" style=\"fill:none;fill-rule:evenodd;stroke:#000000;stroke-width:2.0px;stroke-linecap:butt;stroke-linejoin:miter;stroke-opacity:1\"/>\n",
       "<path class=\"bond-20 atom-20 atom-21\" d=\"M 332.0,259.4 L 357.5,243.6\" style=\"fill:none;fill-rule:evenodd;stroke:#000000;stroke-width:2.0px;stroke-linecap:butt;stroke-linejoin:miter;stroke-opacity:1\"/>\n",
       "<path class=\"bond-21 atom-21 atom-22\" d=\"M 366.1,238.3 L 365.2,205.2\" style=\"fill:none;fill-rule:evenodd;stroke:#000000;stroke-width:2.0px;stroke-linecap:butt;stroke-linejoin:miter;stroke-opacity:1\"/>\n",
       "<path class=\"bond-22 atom-22 atom-23\" d=\"M 365.2,205.2 L 329.9,186.1\" style=\"fill:none;fill-rule:evenodd;stroke:#000000;stroke-width:2.0px;stroke-linecap:butt;stroke-linejoin:miter;stroke-opacity:1\"/>\n",
       "<path class=\"bond-22 atom-22 atom-23\" d=\"M 359.3,208.8 L 330.1,193.1\" style=\"fill:none;fill-rule:evenodd;stroke:#000000;stroke-width:2.0px;stroke-linecap:butt;stroke-linejoin:miter;stroke-opacity:1\"/>\n",
       "<path class=\"bond-23 atom-23 atom-24\" d=\"M 329.9,186.1 L 328.7,146.0\" style=\"fill:none;fill-rule:evenodd;stroke:#000000;stroke-width:2.0px;stroke-linecap:butt;stroke-linejoin:miter;stroke-opacity:1\"/>\n",
       "<path class=\"bond-24 atom-24 atom-25\" d=\"M 328.7,146.0 L 301.3,127.2\" style=\"fill:none;fill-rule:evenodd;stroke:#000000;stroke-width:2.0px;stroke-linecap:butt;stroke-linejoin:miter;stroke-opacity:1\"/>\n",
       "<path class=\"bond-24 atom-24 atom-25\" d=\"M 328.5,138.6 L 304.6,122.2\" style=\"fill:none;fill-rule:evenodd;stroke:#000000;stroke-width:2.0px;stroke-linecap:butt;stroke-linejoin:miter;stroke-opacity:1\"/>\n",
       "<path class=\"bond-25 atom-25 atom-26\" d=\"M 297.7,116.4 L 304.9,91.9\" style=\"fill:none;fill-rule:evenodd;stroke:#000000;stroke-width:2.0px;stroke-linecap:butt;stroke-linejoin:miter;stroke-opacity:1\"/>\n",
       "<path class=\"bond-26 atom-26 atom-27\" d=\"M 312.6,84.7 L 341.4,83.9\" style=\"fill:none;fill-rule:evenodd;stroke:#000000;stroke-width:2.0px;stroke-linecap:butt;stroke-linejoin:miter;stroke-opacity:1\"/>\n",
       "<path class=\"bond-26 atom-26 atom-27\" d=\"M 312.7,90.7 L 341.6,89.9\" style=\"fill:none;fill-rule:evenodd;stroke:#000000;stroke-width:2.0px;stroke-linecap:butt;stroke-linejoin:miter;stroke-opacity:1\"/>\n",
       "<path class=\"bond-27 atom-27 atom-28\" d=\"M 349.5,90.7 L 358.0,114.5\" style=\"fill:none;fill-rule:evenodd;stroke:#000000;stroke-width:2.0px;stroke-linecap:butt;stroke-linejoin:miter;stroke-opacity:1\"/>\n",
       "<path class=\"bond-28 atom-17 atom-29\" d=\"M 260.4,188.1 L 259.3,148.0\" style=\"fill:none;fill-rule:evenodd;stroke:#000000;stroke-width:2.0px;stroke-linecap:butt;stroke-linejoin:miter;stroke-opacity:1\"/>\n",
       "<path class=\"bond-29 atom-29 atom-30\" d=\"M 259.3,148.0 L 224.0,128.9\" style=\"fill:none;fill-rule:evenodd;stroke:#000000;stroke-width:2.0px;stroke-linecap:butt;stroke-linejoin:miter;stroke-opacity:1\"/>\n",
       "<path class=\"bond-29 atom-29 atom-30\" d=\"M 253.4,151.6 L 224.2,135.9\" style=\"fill:none;fill-rule:evenodd;stroke:#000000;stroke-width:2.0px;stroke-linecap:butt;stroke-linejoin:miter;stroke-opacity:1\"/>\n",
       "<path class=\"bond-30 atom-12 atom-3\" d=\"M 114.7,149.6 L 83.3,136.7\" style=\"fill:none;fill-rule:evenodd;stroke:#000000;stroke-width:2.0px;stroke-linecap:butt;stroke-linejoin:miter;stroke-opacity:1\"/>\n",
       "<path class=\"bond-31 atom-30 atom-14\" d=\"M 224.0,128.9 L 189.8,150.0\" style=\"fill:none;fill-rule:evenodd;stroke:#000000;stroke-width:2.0px;stroke-linecap:butt;stroke-linejoin:miter;stroke-opacity:1\"/>\n",
       "<path class=\"bond-32 atom-11 atom-5\" d=\"M 117.3,192.0 L 78.3,201.4\" style=\"fill:none;fill-rule:evenodd;stroke:#000000;stroke-width:2.0px;stroke-linecap:butt;stroke-linejoin:miter;stroke-opacity:1\"/>\n",
       "<path class=\"bond-33 atom-23 atom-18\" d=\"M 329.9,186.1 L 295.7,207.2\" style=\"fill:none;fill-rule:evenodd;stroke:#000000;stroke-width:2.0px;stroke-linecap:butt;stroke-linejoin:miter;stroke-opacity:1\"/>\n",
       "<path class=\"bond-34 atom-28 atom-24\" d=\"M 354.9,125.8 L 328.7,146.0\" style=\"fill:none;fill-rule:evenodd;stroke:#000000;stroke-width:2.0px;stroke-linecap:butt;stroke-linejoin:miter;stroke-opacity:1\"/>\n",
       "<path d=\"M 102.4,68.1 L 102.8,70.0 L 101.4,71.4\" style=\"fill:none;stroke:#000000;stroke-width:2.0px;stroke-linecap:butt;stroke-linejoin:miter;stroke-miterlimit:10;stroke-opacity:1;\"/>\n",
       "<path d=\"M 75.2,96.3 L 73.8,97.7 L 74.3,99.7\" style=\"fill:none;stroke:#000000;stroke-width:2.0px;stroke-linecap:butt;stroke-linejoin:miter;stroke-miterlimit:10;stroke-opacity:1;\"/>\n",
       "<path d=\"M 93.3,267.5 L 94.7,269.0 L 96.6,268.5\" style=\"fill:none;stroke:#000000;stroke-width:2.0px;stroke-linecap:butt;stroke-linejoin:miter;stroke-miterlimit:10;stroke-opacity:1;\"/>\n",
       "<path d=\"M 131.7,260.0 L 133.7,259.5 L 134.2,257.9\" style=\"fill:none;stroke:#000000;stroke-width:2.0px;stroke-linecap:butt;stroke-linejoin:miter;stroke-miterlimit:10;stroke-opacity:1;\"/>\n",
       "<path d=\"M 153.1,131.8 L 154.5,130.9 L 156.3,131.9\" style=\"fill:none;stroke:#000000;stroke-width:2.0px;stroke-linecap:butt;stroke-linejoin:miter;stroke-miterlimit:10;stroke-opacity:1;\"/>\n",
       "<path d=\"M 190.9,188.1 L 191.0,190.1 L 192.7,191.0\" style=\"fill:none;stroke:#000000;stroke-width:2.0px;stroke-linecap:butt;stroke-linejoin:miter;stroke-miterlimit:10;stroke-opacity:1;\"/>\n",
       "<path d=\"M 224.5,208.2 L 226.3,209.1 L 228.0,208.1\" style=\"fill:none;stroke:#000000;stroke-width:2.0px;stroke-linecap:butt;stroke-linejoin:miter;stroke-miterlimit:10;stroke-opacity:1;\"/>\n",
       "<path d=\"M 296.8,245.3 L 296.9,247.3 L 298.6,248.2\" style=\"fill:none;stroke:#000000;stroke-width:2.0px;stroke-linecap:butt;stroke-linejoin:miter;stroke-miterlimit:10;stroke-opacity:1;\"/>\n",
       "<path d=\"M 330.4,265.4 L 332.2,266.3 L 333.6,265.4\" style=\"fill:none;stroke:#000000;stroke-width:2.0px;stroke-linecap:butt;stroke-linejoin:miter;stroke-miterlimit:10;stroke-opacity:1;\"/>\n",
       "<path d=\"M 365.2,206.8 L 365.2,205.2 L 363.4,204.2\" style=\"fill:none;stroke:#000000;stroke-width:2.0px;stroke-linecap:butt;stroke-linejoin:miter;stroke-miterlimit:10;stroke-opacity:1;\"/>\n",
       "<path d=\"M 259.3,150.0 L 259.3,148.0 L 257.5,147.0\" style=\"fill:none;stroke:#000000;stroke-width:2.0px;stroke-linecap:butt;stroke-linejoin:miter;stroke-miterlimit:10;stroke-opacity:1;\"/>\n",
       "<path d=\"M 225.7,129.9 L 224.0,128.9 L 222.3,130.0\" style=\"fill:none;stroke:#000000;stroke-width:2.0px;stroke-linecap:butt;stroke-linejoin:miter;stroke-miterlimit:10;stroke-opacity:1;\"/>\n",
       "<path class=\"atom-4\" d=\"M 54.8 161.6 L 58.5 167.6 Q 58.8 168.2, 59.4 169.3 Q 60.0 170.4, 60.1 170.4 L 60.1 161.6 L 61.6 161.6 L 61.6 173.0 L 60.0 173.0 L 56.0 166.4 Q 55.6 165.6, 55.1 164.7 Q 54.6 163.8, 54.4 163.6 L 54.4 173.0 L 53.0 173.0 L 53.0 161.6 L 54.8 161.6 \" fill=\"#000000\"/>\n",
       "<path class=\"atom-10\" d=\"M 142.5 215.3 L 146.2 221.3 Q 146.6 221.9, 147.2 223.0 Q 147.8 224.1, 147.8 224.2 L 147.8 215.3 L 149.3 215.3 L 149.3 226.7 L 147.7 226.7 L 143.7 220.1 Q 143.3 219.3, 142.8 218.5 Q 142.3 217.6, 142.2 217.3 L 142.2 226.7 L 140.7 226.7 L 140.7 215.3 L 142.5 215.3 \" fill=\"#000000\"/>\n",
       "<path class=\"atom-12\" d=\"M 117.8 146.3 L 121.6 152.3 Q 121.9 152.9, 122.5 154.0 Q 123.1 155.0, 123.2 155.1 L 123.2 146.3 L 124.7 146.3 L 124.7 157.6 L 123.1 157.6 L 119.1 151.1 Q 118.6 150.3, 118.1 149.4 Q 117.7 148.5, 117.5 148.3 L 117.5 157.6 L 116.0 157.6 L 116.0 146.3 L 117.8 146.3 \" fill=\"#000000\"/>\n",
       "<path class=\"atom-21\" d=\"M 363.8 239.6 L 367.6 245.6 Q 367.9 246.2, 368.5 247.3 Q 369.1 248.4, 369.1 248.4 L 369.1 239.6 L 370.6 239.6 L 370.6 251.0 L 369.1 251.0 L 365.1 244.4 Q 364.6 243.6, 364.1 242.7 Q 363.7 241.8, 363.5 241.6 L 363.5 251.0 L 362.0 251.0 L 362.0 239.6 L 363.8 239.6 \" fill=\"#000000\"/>\n",
       "<path class=\"atom-25\" d=\"M 293.1 117.7 L 296.8 123.7 Q 297.2 124.3, 297.8 125.4 Q 298.4 126.4, 298.4 126.5 L 298.4 117.7 L 299.9 117.7 L 299.9 129.0 L 298.4 129.0 L 294.4 122.5 Q 293.9 121.7, 293.4 120.8 Q 292.9 119.9, 292.8 119.7 L 292.8 129.0 L 291.3 129.0 L 291.3 117.7 L 293.1 117.7 \" fill=\"#000000\"/>\n",
       "<path class=\"atom-26\" d=\"M 304.4 79.2 L 308.1 85.2 Q 308.5 85.8, 309.1 86.9 Q 309.7 87.9, 309.7 88.0 L 309.7 79.2 L 311.2 79.2 L 311.2 90.5 L 309.7 90.5 L 305.7 84.0 Q 305.2 83.2, 304.7 82.3 Q 304.2 81.4, 304.1 81.2 L 304.1 90.5 L 302.6 90.5 L 302.6 79.2 L 304.4 79.2 \" fill=\"#000000\"/>\n",
       "<path class=\"atom-27\" d=\"M 344.5 78.0 L 348.2 84.1 Q 348.6 84.6, 349.2 85.7 Q 349.8 86.8, 349.8 86.9 L 349.8 78.0 L 351.3 78.0 L 351.3 89.4 L 349.8 89.4 L 345.8 82.8 Q 345.3 82.0, 344.8 81.2 Q 344.3 80.3, 344.2 80.0 L 344.2 89.4 L 342.7 89.4 L 342.7 78.0 L 344.5 78.0 \" fill=\"#000000\"/>\n",
       "<path class=\"atom-28\" d=\"M 358.0 115.8 L 361.7 121.8 Q 362.1 122.4, 362.7 123.5 Q 363.3 124.6, 363.3 124.6 L 363.3 115.8 L 364.8 115.8 L 364.8 127.2 L 363.3 127.2 L 359.3 120.6 Q 358.8 119.8, 358.3 119.0 Q 357.8 118.1, 357.7 117.8 L 357.7 127.2 L 356.2 127.2 L 356.2 115.8 L 358.0 115.8 \" fill=\"#000000\"/>\n",
       "<path class=\"atom-28\" d=\"M 367.0 115.8 L 368.6 115.8 L 368.6 120.7 L 374.4 120.7 L 374.4 115.8 L 375.9 115.8 L 375.9 127.2 L 374.4 127.2 L 374.4 121.9 L 368.6 121.9 L 368.6 127.2 L 367.0 127.2 L 367.0 115.8 \" fill=\"#000000\"/>\n",
       "</svg>"
      ],
      "text/plain": [
       "<IPython.core.display.SVG object>"
      ]
     },
     "metadata": {},
     "output_type": "display_data"
    }
   ],
   "source": [
    "from IPython.display import Image, SVG\n",
    "\n",
    "attention_plot = Image(att_path)\n",
    "molecular_img = SVG(mol_path)\n",
    "display(attention_plot)\n",
    "display(molecular_img)"
   ]
  },
  {
   "cell_type": "markdown",
   "id": "1999d67d6d14b263",
   "metadata": {},
   "source": [
    "The output images are saved in the `visualization` directory. The attention map shows how much each drug token attends to each protein token, while the molecule image highlights the atoms based on their attention values."
   ]
  },
  {
   "cell_type": "markdown",
   "id": "d1cab418",
   "metadata": {},
   "source": [
    "## References\n",
    "\n",
    "[1] Lu, H., Liu, X., Zhou, S., Turner, R., Bai, P., Koot, R. E., ... & Xu, H. (2022, October). PyKale: Knowledge-aware machine learning from multiple sources in Python. In _Proceedings of the 31st ACM International Conference on Information & Knowledge Management_ (pp. 4274-4278).\n",
    "\n",
    "[2] Zitnik, M., Sosič, R., Maheshwari, S. & Leskovec, J. (2018). BioSNAP datasets: Stanford biomedical network dataset collection. https://snap.stanford.edu/biodata.\n",
    "\n",
    "[3] Gilson, M. K., Liu, T., Baitaluk, M., Nicola, G., Hwang, L., & Chong, J. (2016). BindingDB in 2015: a public database for medicinal chemistry, computational chemistry and systems pharmacology. Nucleic acids research, 44(D1), D1045-D1053.\n",
    "\n",
    "[4] Bai, P., Miljković, F., John, B., & Lu, H. (2023). Interpretable bilinear attention network with domain adaptation improves drug–target prediction. Nature Machine Intelligence, 5(2), 126-136.\n"
   ]
  }
 ],
 "metadata": {
  "kernelspec": {
   "display_name": "embc25",
   "language": "python",
   "name": "python3"
  },
  "language_info": {
   "codemirror_mode": {
    "name": "ipython",
    "version": 3
   },
   "file_extension": ".py",
   "mimetype": "text/x-python",
   "name": "python",
   "nbconvert_exporter": "python",
   "pygments_lexer": "ipython3",
   "version": "3.10.16"
  }
 },
 "nbformat": 4,
 "nbformat_minor": 5
}
